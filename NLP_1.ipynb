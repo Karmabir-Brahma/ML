{
  "cells": [
    {
      "cell_type": "markdown",
      "metadata": {
        "id": "view-in-github",
        "colab_type": "text"
      },
      "source": [
        "<a href=\"https://colab.research.google.com/github/Karmabir-Brahma/ML/blob/master/NLP_1.ipynb\" target=\"_parent\"><img src=\"https://colab.research.google.com/assets/colab-badge.svg\" alt=\"Open In Colab\"/></a>"
      ]
    },
    {
      "cell_type": "code",
      "execution_count": 2,
      "metadata": {
        "id": "VXoZUs9aMrFN"
      },
      "outputs": [],
      "source": [
        "from tensorflow.keras.preprocessing.sequence import pad_sequences\n",
        "from tensorflow.keras.preprocessing.text import Tokenizer\n",
        "from sklearn.model_selection import train_test_split\n",
        "from sklearn.decomposition import PCA\n",
        "import matplotlib.pyplot as plt\n",
        "import plotly.express as px\n",
        "import tensorflow as tf\n",
        "import pandas as pd"
      ]
    },
    {
      "cell_type": "code",
      "execution_count": 3,
      "metadata": {
        "id": "nwuHRBSsM0ya"
      },
      "outputs": [],
      "source": [
        "path = \"/content/drive/MyDrive/train.csv\"\n",
        "train_df = pd.read_csv(path)"
      ]
    },
    {
      "cell_type": "code",
      "execution_count": 4,
      "metadata": {
        "colab": {
          "base_uri": "https://localhost:8080/",
          "height": 206
        },
        "id": "pUZSf4-EVPTm",
        "outputId": "d4384290-3266-4dd4-ac3f-9b265e5486fb"
      },
      "outputs": [
        {
          "output_type": "execute_result",
          "data": {
            "text/plain": [
              "   id keyword location                                               text  \\\n",
              "0   1     NaN      NaN  Our Deeds are the Reason of this #earthquake M...   \n",
              "1   4     NaN      NaN             Forest fire near La Ronge Sask. Canada   \n",
              "2   5     NaN      NaN  All residents asked to 'shelter in place' are ...   \n",
              "3   6     NaN      NaN  13,000 people receive #wildfires evacuation or...   \n",
              "4   7     NaN      NaN  Just got sent this photo from Ruby #Alaska as ...   \n",
              "\n",
              "   target  \n",
              "0       1  \n",
              "1       1  \n",
              "2       1  \n",
              "3       1  \n",
              "4       1  "
            ],
            "text/html": [
              "\n",
              "  <div id=\"df-0eb71dbb-f283-409a-96a2-a7572d442396\">\n",
              "    <div class=\"colab-df-container\">\n",
              "      <div>\n",
              "<style scoped>\n",
              "    .dataframe tbody tr th:only-of-type {\n",
              "        vertical-align: middle;\n",
              "    }\n",
              "\n",
              "    .dataframe tbody tr th {\n",
              "        vertical-align: top;\n",
              "    }\n",
              "\n",
              "    .dataframe thead th {\n",
              "        text-align: right;\n",
              "    }\n",
              "</style>\n",
              "<table border=\"1\" class=\"dataframe\">\n",
              "  <thead>\n",
              "    <tr style=\"text-align: right;\">\n",
              "      <th></th>\n",
              "      <th>id</th>\n",
              "      <th>keyword</th>\n",
              "      <th>location</th>\n",
              "      <th>text</th>\n",
              "      <th>target</th>\n",
              "    </tr>\n",
              "  </thead>\n",
              "  <tbody>\n",
              "    <tr>\n",
              "      <th>0</th>\n",
              "      <td>1</td>\n",
              "      <td>NaN</td>\n",
              "      <td>NaN</td>\n",
              "      <td>Our Deeds are the Reason of this #earthquake M...</td>\n",
              "      <td>1</td>\n",
              "    </tr>\n",
              "    <tr>\n",
              "      <th>1</th>\n",
              "      <td>4</td>\n",
              "      <td>NaN</td>\n",
              "      <td>NaN</td>\n",
              "      <td>Forest fire near La Ronge Sask. Canada</td>\n",
              "      <td>1</td>\n",
              "    </tr>\n",
              "    <tr>\n",
              "      <th>2</th>\n",
              "      <td>5</td>\n",
              "      <td>NaN</td>\n",
              "      <td>NaN</td>\n",
              "      <td>All residents asked to 'shelter in place' are ...</td>\n",
              "      <td>1</td>\n",
              "    </tr>\n",
              "    <tr>\n",
              "      <th>3</th>\n",
              "      <td>6</td>\n",
              "      <td>NaN</td>\n",
              "      <td>NaN</td>\n",
              "      <td>13,000 people receive #wildfires evacuation or...</td>\n",
              "      <td>1</td>\n",
              "    </tr>\n",
              "    <tr>\n",
              "      <th>4</th>\n",
              "      <td>7</td>\n",
              "      <td>NaN</td>\n",
              "      <td>NaN</td>\n",
              "      <td>Just got sent this photo from Ruby #Alaska as ...</td>\n",
              "      <td>1</td>\n",
              "    </tr>\n",
              "  </tbody>\n",
              "</table>\n",
              "</div>\n",
              "      <button class=\"colab-df-convert\" onclick=\"convertToInteractive('df-0eb71dbb-f283-409a-96a2-a7572d442396')\"\n",
              "              title=\"Convert this dataframe to an interactive table.\"\n",
              "              style=\"display:none;\">\n",
              "        \n",
              "  <svg xmlns=\"http://www.w3.org/2000/svg\" height=\"24px\"viewBox=\"0 0 24 24\"\n",
              "       width=\"24px\">\n",
              "    <path d=\"M0 0h24v24H0V0z\" fill=\"none\"/>\n",
              "    <path d=\"M18.56 5.44l.94 2.06.94-2.06 2.06-.94-2.06-.94-.94-2.06-.94 2.06-2.06.94zm-11 1L8.5 8.5l.94-2.06 2.06-.94-2.06-.94L8.5 2.5l-.94 2.06-2.06.94zm10 10l.94 2.06.94-2.06 2.06-.94-2.06-.94-.94-2.06-.94 2.06-2.06.94z\"/><path d=\"M17.41 7.96l-1.37-1.37c-.4-.4-.92-.59-1.43-.59-.52 0-1.04.2-1.43.59L10.3 9.45l-7.72 7.72c-.78.78-.78 2.05 0 2.83L4 21.41c.39.39.9.59 1.41.59.51 0 1.02-.2 1.41-.59l7.78-7.78 2.81-2.81c.8-.78.8-2.07 0-2.86zM5.41 20L4 18.59l7.72-7.72 1.47 1.35L5.41 20z\"/>\n",
              "  </svg>\n",
              "      </button>\n",
              "      \n",
              "  <style>\n",
              "    .colab-df-container {\n",
              "      display:flex;\n",
              "      flex-wrap:wrap;\n",
              "      gap: 12px;\n",
              "    }\n",
              "\n",
              "    .colab-df-convert {\n",
              "      background-color: #E8F0FE;\n",
              "      border: none;\n",
              "      border-radius: 50%;\n",
              "      cursor: pointer;\n",
              "      display: none;\n",
              "      fill: #1967D2;\n",
              "      height: 32px;\n",
              "      padding: 0 0 0 0;\n",
              "      width: 32px;\n",
              "    }\n",
              "\n",
              "    .colab-df-convert:hover {\n",
              "      background-color: #E2EBFA;\n",
              "      box-shadow: 0px 1px 2px rgba(60, 64, 67, 0.3), 0px 1px 3px 1px rgba(60, 64, 67, 0.15);\n",
              "      fill: #174EA6;\n",
              "    }\n",
              "\n",
              "    [theme=dark] .colab-df-convert {\n",
              "      background-color: #3B4455;\n",
              "      fill: #D2E3FC;\n",
              "    }\n",
              "\n",
              "    [theme=dark] .colab-df-convert:hover {\n",
              "      background-color: #434B5C;\n",
              "      box-shadow: 0px 1px 3px 1px rgba(0, 0, 0, 0.15);\n",
              "      filter: drop-shadow(0px 1px 2px rgba(0, 0, 0, 0.3));\n",
              "      fill: #FFFFFF;\n",
              "    }\n",
              "  </style>\n",
              "\n",
              "      <script>\n",
              "        const buttonEl =\n",
              "          document.querySelector('#df-0eb71dbb-f283-409a-96a2-a7572d442396 button.colab-df-convert');\n",
              "        buttonEl.style.display =\n",
              "          google.colab.kernel.accessAllowed ? 'block' : 'none';\n",
              "\n",
              "        async function convertToInteractive(key) {\n",
              "          const element = document.querySelector('#df-0eb71dbb-f283-409a-96a2-a7572d442396');\n",
              "          const dataTable =\n",
              "            await google.colab.kernel.invokeFunction('convertToInteractive',\n",
              "                                                     [key], {});\n",
              "          if (!dataTable) return;\n",
              "\n",
              "          const docLinkHtml = 'Like what you see? Visit the ' +\n",
              "            '<a target=\"_blank\" href=https://colab.research.google.com/notebooks/data_table.ipynb>data table notebook</a>'\n",
              "            + ' to learn more about interactive tables.';\n",
              "          element.innerHTML = '';\n",
              "          dataTable['output_type'] = 'display_data';\n",
              "          await google.colab.output.renderOutput(dataTable, element);\n",
              "          const docLink = document.createElement('div');\n",
              "          docLink.innerHTML = docLinkHtml;\n",
              "          element.appendChild(docLink);\n",
              "        }\n",
              "      </script>\n",
              "    </div>\n",
              "  </div>\n",
              "  "
            ]
          },
          "metadata": {},
          "execution_count": 4
        }
      ],
      "source": [
        "train_df.head()"
      ]
    },
    {
      "cell_type": "code",
      "execution_count": 5,
      "metadata": {
        "colab": {
          "base_uri": "https://localhost:8080/"
        },
        "id": "GUr6O2cSH8IL",
        "outputId": "ca174b34-bebb-4d05-9fc2-98a7f27b10f3"
      },
      "outputs": [
        {
          "output_type": "stream",
          "name": "stdout",
          "text": [
            "0\n"
          ]
        }
      ],
      "source": [
        "print(train_df['target'][62])"
      ]
    },
    {
      "cell_type": "code",
      "execution_count": 6,
      "metadata": {
        "colab": {
          "base_uri": "https://localhost:8080/"
        },
        "id": "iw5dPV1JWaCa",
        "outputId": "0c4b746a-c49e-4283-bbad-4016b0d2d2c6"
      },
      "outputs": [
        {
          "output_type": "stream",
          "name": "stdout",
          "text": [
            "Shape of data: (7613, 5)\n"
          ]
        }
      ],
      "source": [
        "print(f'Shape of data: {train_df.shape}')"
      ]
    },
    {
      "cell_type": "code",
      "execution_count": 7,
      "metadata": {
        "colab": {
          "base_uri": "https://localhost:8080/"
        },
        "id": "_lXaDt0OXzk-",
        "outputId": "f0f9d361-8f33-444e-9e90-7659da208045"
      },
      "outputs": [
        {
          "output_type": "stream",
          "name": "stdout",
          "text": [
            "<class 'pandas.core.frame.DataFrame'>\n",
            "RangeIndex: 7613 entries, 0 to 7612\n",
            "Data columns (total 5 columns):\n",
            " #   Column    Non-Null Count  Dtype \n",
            "---  ------    --------------  ----- \n",
            " 0   id        7613 non-null   int64 \n",
            " 1   keyword   7552 non-null   object\n",
            " 2   location  5080 non-null   object\n",
            " 3   text      7613 non-null   object\n",
            " 4   target    7613 non-null   int64 \n",
            "dtypes: int64(2), object(3)\n",
            "memory usage: 297.5+ KB\n",
            "None\n"
          ]
        }
      ],
      "source": [
        "# Find the number of missing values\n",
        "print(train_df.info())"
      ]
    },
    {
      "cell_type": "code",
      "execution_count": 8,
      "metadata": {
        "id": "E2pRHLY1YgJi"
      },
      "outputs": [],
      "source": [
        "#Fitting to the input data\n",
        "tokenizer = Tokenizer(num_words=700, oov_token='OOV')\n",
        "tokenizer.fit_on_texts(train_df.head()['text'])"
      ]
    },
    {
      "cell_type": "code",
      "execution_count": 9,
      "metadata": {
        "colab": {
          "base_uri": "https://localhost:8080/"
        },
        "id": "mpCOA70zZ9AW",
        "outputId": "3e8c136f-9a3c-4104-8665-5bc7fe813648"
      },
      "outputs": [
        {
          "output_type": "stream",
          "name": "stdout",
          "text": [
            "{'OOV': 1, 'are': 2, 'in': 3, 'this': 4, 'all': 5, 'evacuation': 6, 'orders': 7, 'wildfires': 8, 'from': 9, 'our': 10, 'deeds': 11, 'the': 12, 'reason': 13, 'of': 14, 'earthquake': 15, 'may': 16, 'allah': 17, 'forgive': 18, 'us': 19, 'forest': 20, 'fire': 21, 'near': 22, 'la': 23, 'ronge': 24, 'sask': 25, 'canada': 26, 'residents': 27, 'asked': 28, 'to': 29, \"'shelter\": 30, \"place'\": 31, 'being': 32, 'notified': 33, 'by': 34, 'officers': 35, 'no': 36, 'other': 37, 'or': 38, 'shelter': 39, 'place': 40, 'expected': 41, '13': 42, '000': 43, 'people': 44, 'receive': 45, 'california': 46, 'just': 47, 'got': 48, 'sent': 49, 'photo': 50, 'ruby': 51, 'alaska': 52, 'as': 53, 'smoke': 54, 'pours': 55, 'into': 56, 'a': 57, 'school': 58}\n"
          ]
        }
      ],
      "source": [
        "#Tokens\n",
        "word_index = tokenizer.word_index\n",
        "print(word_index)"
      ]
    },
    {
      "cell_type": "code",
      "execution_count": 10,
      "metadata": {
        "colab": {
          "base_uri": "https://localhost:8080/"
        },
        "id": "f7KpCmWqapIy",
        "outputId": "668b7d14-c928-4e34-c566-ef513f238127"
      },
      "outputs": [
        {
          "output_type": "stream",
          "name": "stdout",
          "text": [
            "[[10, 11, 2, 12, 13, 14, 4, 15, 16, 17, 18, 19, 5], [20, 21, 22, 23, 24, 25, 26], [5, 27, 28, 29, 30, 3, 31, 2, 32, 33, 34, 35, 36, 37, 6, 38, 39, 3, 40, 7, 2, 41], [42, 43, 44, 45, 8, 6, 7, 3, 46], [47, 48, 49, 4, 50, 9, 51, 52, 53, 54, 9, 8, 55, 56, 57, 58]]\n"
          ]
        }
      ],
      "source": [
        "#Generate text sequence\n",
        "sequence = tokenizer.texts_to_sequences(train_df.head()['text'])\n",
        "print(sequence)"
      ]
    },
    {
      "cell_type": "code",
      "execution_count": 11,
      "metadata": {
        "colab": {
          "base_uri": "https://localhost:8080/"
        },
        "id": "2pYSnuu1bexI",
        "outputId": "a144b2f3-d955-4019-c220-83ac1e298dfe"
      },
      "outputs": [
        {
          "output_type": "stream",
          "name": "stdout",
          "text": [
            "[[10 11  2 12 13 14  4 15 16 17 18 19  5  0  0  0  0  0  0  0  0  0]\n",
            " [20 21 22 23 24 25 26  0  0  0  0  0  0  0  0  0  0  0  0  0  0  0]\n",
            " [ 5 27 28 29 30  3 31  2 32 33 34 35 36 37  6 38 39  3 40  7  2 41]\n",
            " [42 43 44 45  8  6  7  3 46  0  0  0  0  0  0  0  0  0  0  0  0  0]\n",
            " [47 48 49  4 50  9 51 52 53 54  9  8 55 56 57 58  0  0  0  0  0  0]]\n"
          ]
        }
      ],
      "source": [
        "padded = pad_sequences(sequence, padding='post')\n",
        "print(padded)"
      ]
    },
    {
      "cell_type": "code",
      "execution_count": 12,
      "metadata": {
        "id": "8untZkd9jmsz"
      },
      "outputs": [],
      "source": [
        "# Splitting the data into 2/3 as train and 1/3 as test\n",
        "X_train, X_test, y_train, y_test = train_test_split(train_df['text'], train_df['target'], test_size=0.33, random_state=42)"
      ]
    },
    {
      "cell_type": "code",
      "execution_count": 13,
      "metadata": {
        "colab": {
          "base_uri": "https://localhost:8080/"
        },
        "id": "sw1gMn9-j2Qe",
        "outputId": "d041eb53-d011-49cf-c8d8-835d00936131"
      },
      "outputs": [
        {
          "output_type": "stream",
          "name": "stdout",
          "text": [
            "5836    Photo: postapocalypticflimflam: Prodding aroun...\n",
            "30                                               The end!\n",
            "1879    Man crush everyday ????  @CristianInspire http...\n",
            "6852    @PTSD_Chat Yes. I feel the root of that is Sha...\n",
            "2673    @AutoAmes everyone hoped we would join ISIS an...\n",
            "                              ...                        \n",
            "5226    @Eganator2000 There aren't many Obliteration s...\n",
            "5390    just had a panic attack bc I don't have enough...\n",
            "860     Omron HEM-712C Automatic Blood Pressure Monito...\n",
            "7603    Officials say a quarantine is in place at an A...\n",
            "7270    I moved to England five years ago today. What ...\n",
            "Name: text, Length: 5100, dtype: object\n"
          ]
        }
      ],
      "source": [
        "print(X_train)"
      ]
    },
    {
      "cell_type": "code",
      "execution_count": 14,
      "metadata": {
        "colab": {
          "base_uri": "https://localhost:8080/"
        },
        "id": "edlvT0r-shQ1",
        "outputId": "b0e1b2b0-c376-46c3-f178-3a553dd2678f"
      },
      "outputs": [
        {
          "output_type": "stream",
          "name": "stdout",
          "text": [
            "5836    0\n",
            "30      0\n",
            "1879    0\n",
            "6852    1\n",
            "2673    0\n",
            "       ..\n",
            "5226    0\n",
            "5390    0\n",
            "860     0\n",
            "7603    1\n",
            "7270    1\n",
            "Name: target, Length: 5100, dtype: int64\n"
          ]
        }
      ],
      "source": [
        "print(y_train)"
      ]
    },
    {
      "cell_type": "code",
      "execution_count": 15,
      "metadata": {
        "colab": {
          "base_uri": "https://localhost:8080/"
        },
        "id": "FEaXgI7YstUC",
        "outputId": "ce6badc1-2d90-4521-dc81-44a015c8d5c5"
      },
      "outputs": [
        {
          "output_type": "stream",
          "name": "stdout",
          "text": [
            "2644    So you have a new weapon that can cause un-ima...\n",
            "2227    The f$&amp;@ing things I do for #GISHWHES Just...\n",
            "5448    DT @georgegalloway: RT @Galloway4Mayor: ÛÏThe...\n",
            "132     Aftershock back to school kick off was great. ...\n",
            "6845    in response to trauma Children of Addicts deve...\n",
            "                              ...                        \n",
            "485                          @messeymetoo I feel attacked\n",
            "2239    Here I'm the UK there isn't a deluge of Canadi...\n",
            "3653    ...American casualties including 400000ÛÒ8000...\n",
            "3469    EE recalls Power Bar phone chargers after expl...\n",
            "6111    Sinking the Slipper or Putting the Boot In htt...\n",
            "Name: text, Length: 2513, dtype: object\n"
          ]
        }
      ],
      "source": [
        "print(X_test)"
      ]
    },
    {
      "cell_type": "code",
      "execution_count": 16,
      "metadata": {
        "colab": {
          "base_uri": "https://localhost:8080/"
        },
        "id": "MSAdjlCIs6oy",
        "outputId": "4dbd2d19-f5ae-411e-c33b-7b1b6b9eee03"
      },
      "outputs": [
        {
          "output_type": "stream",
          "name": "stdout",
          "text": [
            "2644    1\n",
            "2227    0\n",
            "5448    1\n",
            "132     0\n",
            "6845    0\n",
            "       ..\n",
            "485     0\n",
            "2239    1\n",
            "3653    1\n",
            "3469    1\n",
            "6111    0\n",
            "Name: target, Length: 2513, dtype: int64\n"
          ]
        }
      ],
      "source": [
        "print(y_test)"
      ]
    },
    {
      "cell_type": "code",
      "execution_count": 17,
      "metadata": {
        "id": "ToyLhm8nucMk"
      },
      "outputs": [],
      "source": [
        "vocab_size = 500\n",
        "embedding_dim = 16\n",
        "max_length = 50\n",
        "trunc_type='post'\n",
        "oov_tok = \"<OOV>\"\n",
        "\n",
        "# Tokenization\n",
        "tokenizer = Tokenizer(num_words = vocab_size, oov_token=oov_tok)\n",
        "tokenizer.fit_on_texts(X_train)\n",
        "\n",
        "word_index = tokenizer.word_index\n",
        "sequences = tokenizer.texts_to_sequences(X_train)\n",
        "testing_sequences = tokenizer.texts_to_sequences(X_test)\n",
        "\n",
        "# Padding\n",
        "padded = pad_sequences(sequences, maxlen=max_length, truncating=trunc_type)  # \n",
        "testing_padded = pad_sequences(testing_sequences, maxlen=max_length)  # , maxlen=max_length"
      ]
    },
    {
      "cell_type": "code",
      "execution_count": 18,
      "metadata": {
        "colab": {
          "base_uri": "https://localhost:8080/"
        },
        "id": "IbEoWcUGZGBh",
        "outputId": "64ebeacd-f38e-419b-fd4d-2c3cf1b685d1"
      },
      "outputs": [
        {
          "output_type": "execute_result",
          "data": {
            "text/plain": [
              "(5100, 50)"
            ]
          },
          "metadata": {},
          "execution_count": 18
        }
      ],
      "source": [
        "padded.shape"
      ]
    },
    {
      "cell_type": "code",
      "execution_count": 19,
      "metadata": {
        "colab": {
          "base_uri": "https://localhost:8080/"
        },
        "id": "yamA5ME8b-Iw",
        "outputId": "cf693974-6092-496b-b063-48904d0f7b6f"
      },
      "outputs": [
        {
          "output_type": "execute_result",
          "data": {
            "text/plain": [
              "(2513, 50)"
            ]
          },
          "metadata": {},
          "execution_count": 19
        }
      ],
      "source": [
        "testing_padded.shape"
      ]
    },
    {
      "cell_type": "code",
      "source": [
        "model = tf.keras.Sequential([\n",
        "    tf.keras.layers.Embedding(vocab_size, embedding_dim, input_length=max_length),\n",
        "    tf.keras.layers.Flatten(),\n",
        "    tf.keras.layers.Dense(6, activation='relu'),\n",
        "    tf.keras.layers.Dense(1, activation='sigmoid')\n",
        "])\n",
        "model.compile(loss='binary_crossentropy', optimizer='adam', metrics=['accuracy'])\n",
        "model.summary()"
      ],
      "metadata": {
        "colab": {
          "base_uri": "https://localhost:8080/"
        },
        "id": "3TTtQbNOmkYL",
        "outputId": "b64ea98a-a815-433a-f4f4-fd49b6340bde"
      },
      "execution_count": 20,
      "outputs": [
        {
          "output_type": "stream",
          "name": "stdout",
          "text": [
            "Model: \"sequential\"\n",
            "_________________________________________________________________\n",
            " Layer (type)                Output Shape              Param #   \n",
            "=================================================================\n",
            " embedding (Embedding)       (None, 50, 16)            8000      \n",
            "                                                                 \n",
            " flatten (Flatten)           (None, 800)               0         \n",
            "                                                                 \n",
            " dense (Dense)               (None, 6)                 4806      \n",
            "                                                                 \n",
            " dense_1 (Dense)             (None, 1)                 7         \n",
            "                                                                 \n",
            "=================================================================\n",
            "Total params: 12,813\n",
            "Trainable params: 12,813\n",
            "Non-trainable params: 0\n",
            "_________________________________________________________________\n"
          ]
        }
      ]
    },
    {
      "cell_type": "code",
      "source": [
        "num_epochs = 10\n",
        "history = model.fit(padded, y_train, epochs=num_epochs, validation_data=(testing_padded, y_test))"
      ],
      "metadata": {
        "colab": {
          "base_uri": "https://localhost:8080/"
        },
        "id": "bP8qRKKKog7S",
        "outputId": "a89095f0-30f8-4a20-dff6-feeb2f9d6fbf"
      },
      "execution_count": 21,
      "outputs": [
        {
          "output_type": "stream",
          "name": "stdout",
          "text": [
            "Epoch 1/10\n",
            "160/160 [==============================] - 2s 5ms/step - loss: 0.6594 - accuracy: 0.6063 - val_loss: 0.6234 - val_accuracy: 0.6685\n",
            "Epoch 2/10\n",
            "160/160 [==============================] - 1s 4ms/step - loss: 0.5778 - accuracy: 0.7153 - val_loss: 0.5468 - val_accuracy: 0.7437\n",
            "Epoch 3/10\n",
            "160/160 [==============================] - 1s 4ms/step - loss: 0.4878 - accuracy: 0.7804 - val_loss: 0.5087 - val_accuracy: 0.7600\n",
            "Epoch 4/10\n",
            "160/160 [==============================] - 0s 3ms/step - loss: 0.4362 - accuracy: 0.8071 - val_loss: 0.4997 - val_accuracy: 0.7604\n",
            "Epoch 5/10\n",
            "160/160 [==============================] - 0s 2ms/step - loss: 0.4024 - accuracy: 0.8227 - val_loss: 0.4992 - val_accuracy: 0.7732\n",
            "Epoch 6/10\n",
            "160/160 [==============================] - 0s 2ms/step - loss: 0.3725 - accuracy: 0.8398 - val_loss: 0.5076 - val_accuracy: 0.7620\n",
            "Epoch 7/10\n",
            "160/160 [==============================] - 0s 2ms/step - loss: 0.3478 - accuracy: 0.8486 - val_loss: 0.5304 - val_accuracy: 0.7640\n",
            "Epoch 8/10\n",
            "160/160 [==============================] - 0s 2ms/step - loss: 0.3191 - accuracy: 0.8673 - val_loss: 0.5319 - val_accuracy: 0.7652\n",
            "Epoch 9/10\n",
            "160/160 [==============================] - 0s 2ms/step - loss: 0.2925 - accuracy: 0.8818 - val_loss: 0.5478 - val_accuracy: 0.7561\n",
            "Epoch 10/10\n",
            "160/160 [==============================] - 0s 2ms/step - loss: 0.2671 - accuracy: 0.8935 - val_loss: 0.5696 - val_accuracy: 0.7501\n"
          ]
        }
      ]
    },
    {
      "cell_type": "code",
      "source": [
        "# Getting weights from the embedding\n",
        "e = model.layers[0]\n",
        "weights = e.get_weights()[0]\n",
        "print(weights.shape)\n",
        "\n",
        "# Reverse mapping function from token to word\n",
        "reverse_word_index = dict([(value, key) for (key, value) in word_index.items()])\n",
        "\n",
        "def decode_review(text):\n",
        "    return ' '.join([reverse_word_index.get(i, '?') for i in text])"
      ],
      "metadata": {
        "colab": {
          "base_uri": "https://localhost:8080/"
        },
        "id": "nGM9cDCuThfL",
        "outputId": "19a4fc9d-c4f2-48c2-f0bc-b0999c518f35"
      },
      "execution_count": 22,
      "outputs": [
        {
          "output_type": "stream",
          "name": "stdout",
          "text": [
            "(500, 16)\n"
          ]
        }
      ]
    },
    {
      "cell_type": "code",
      "source": [
        "# Combining embedding and words into a DataFrame\n",
        "embedding_df = pd.DataFrame()\n",
        "for word_num in range(1, vocab_size):\n",
        "    word = reverse_word_index[word_num]\n",
        "    embeddings = weights[word_num]\n",
        "    embedding_df = embedding_df.append(pd.Series({'word':word, 'em':embeddings}), ignore_index=True)\n",
        "    \n",
        "embedding_df = pd.concat([embedding_df['em'].apply(pd.Series), embedding_df['word']], axis=1)"
      ],
      "metadata": {
        "id": "g9QTNvKCVBro"
      },
      "execution_count": 23,
      "outputs": []
    },
    {
      "cell_type": "code",
      "source": [
        "# Using PCA to map 16 embedding values to 3 to plot\n",
        "p = PCA(n_components=3)\n",
        "principal_components = p.fit_transform(embedding_df.filter(regex=r'\\d'))\n",
        "embedding_df[['x', 'y', 'z']] = pd.DataFrame(principal_components)\n",
        "\n",
        "embedding_df.shape"
      ],
      "metadata": {
        "colab": {
          "base_uri": "https://localhost:8080/"
        },
        "id": "zwg4OMBVVEFw",
        "outputId": "678262ac-481c-4ccf-fa92-ac8ccf4a2fb0"
      },
      "execution_count": 24,
      "outputs": [
        {
          "output_type": "execute_result",
          "data": {
            "text/plain": [
              "(499, 20)"
            ]
          },
          "metadata": {},
          "execution_count": 24
        }
      ]
    },
    {
      "cell_type": "code",
      "source": [
        "fig = px.scatter_3d(embedding_df, x='x', y='y', z='z', hover_name='word', color='x')\n",
        "fig.show()"
      ],
      "metadata": {
        "colab": {
          "base_uri": "https://localhost:8080/",
          "height": 542
        },
        "id": "OEbpJKw7VIb5",
        "outputId": "5883e57c-a9bf-458d-a84a-611a559332f3"
      },
      "execution_count": 25,
      "outputs": [
        {
          "output_type": "display_data",
          "data": {
            "text/html": [
              "<html>\n",
              "<head><meta charset=\"utf-8\" /></head>\n",
              "<body>\n",
              "    <div>            <script src=\"https://cdnjs.cloudflare.com/ajax/libs/mathjax/2.7.5/MathJax.js?config=TeX-AMS-MML_SVG\"></script><script type=\"text/javascript\">if (window.MathJax) {MathJax.Hub.Config({SVG: {font: \"STIX-Web\"}});}</script>                <script type=\"text/javascript\">window.PlotlyConfig = {MathJaxConfig: 'local'};</script>\n",
              "        <script src=\"https://cdn.plot.ly/plotly-2.8.3.min.js\"></script>                <div id=\"add77c2f-36c8-454c-ac64-10462d989efb\" class=\"plotly-graph-div\" style=\"height:525px; width:100%;\"></div>            <script type=\"text/javascript\">                                    window.PLOTLYENV=window.PLOTLYENV || {};                                    if (document.getElementById(\"add77c2f-36c8-454c-ac64-10462d989efb\")) {                    Plotly.newPlot(                        \"add77c2f-36c8-454c-ac64-10462d989efb\",                        [{\"hovertemplate\":\"<b>%{hovertext}</b><br><br>x=%{marker.color}<br>y=%{y}<br>z=%{z}<extra></extra>\",\"hovertext\":[\"<OOV>\",\"t\",\"co\",\"http\",\"the\",\"a\",\"in\",\"to\",\"of\",\"i\",\"and\",\"is\",\"for\",\"on\",\"you\",\"my\",\"with\",\"that\",\"it\",\"at\",\"by\",\"this\",\"from\",\"https\",\"have\",\"be\",\"are\",\"was\",\"like\",\"but\",\"amp\",\"me\",\"as\",\"up\",\"so\",\"just\",\"your\",\"not\",\"out\",\"no\",\"all\",\"after\",\"will\",\"has\",\"when\",\"i'm\",\"fire\",\"an\",\"we\",\"via\",\"more\",\"get\",\"if\",\"new\",\"now\",\"about\",\"2\",\"what\",\"news\",\"people\",\"been\",\"one\",\"over\",\"they\",\"how\",\"or\",\"he\",\"who\",\"can\",\"emergency\",\"'\",\"it's\",\"video\",\"into\",\"don't\",\"do\",\"disaster\",\"3\",\"her\",\"there\",\"than\",\"u\",\"would\",\"were\",\"still\",\"some\",\"day\",\"us\",\"time\",\"police\",\"his\",\"body\",\"1\",\"off\",\"got\",\"california\",\"suicide\",\"had\",\"crash\",\"back\",\"see\",\"man\",\"s\",\"know\",\"life\",\"why\",\"burning\",\"world\",\"buildings\",\"nuclear\",\"them\",\"train\",\"fires\",\"first\",\"attack\",\"rt\",\"year\",\"their\",\"two\",\"hiroshima\",\"storm\",\"going\",\"car\",\"youtube\",\"watch\",\"4\",\"bomb\",\"go\",\"families\",\"full\",\"only\",\"old\",\"5\",\"killed\",\"down\",\"can't\",\"love\",\"today\",\"may\",\"war\",\"good\",\"dead\",\"2015\",\"years\",\"our\",\"could\",\"think\",\"say\",\"gt\",\"being\",\"accident\",\"here\",\"home\",\"look\",\"way\",\"last\",\"many\",\"mass\",\"want\",\"w\",\"8\",\"bombing\",\"best\",\"mh370\",\"its\",\"too\",\"forest\",\"live\",\"help\",\"another\",\"am\",\"those\",\"wildfire\",\"black\",\"work\",\"army\",\"did\",\"take\",\"make\",\"then\",\"need\",\"fatal\",\"even\",\"lol\",\"because\",\"him\",\"northern\",\"please\",\"school\",\"collapse\",\"she\",\"hot\",\"should\",\"city\",\"6\",\"pm\",\"damage\",\"flames\",\"latest\",\"let\",\"obama\",\"wreck\",\"death\",\"great\",\"flood\",\"fear\",\"bomber\",\"much\",\"never\",\"atomic\",\"japan\",\"really\",\"getting\",\"you're\",\"typhoon\",\"feel\",\"right\",\"homes\",\"\\u0089\\u00fb\",\"every\",\"since\",\"under\",\"which\",\"where\",\"most\",\"refugees\",\"hit\",\"ever\",\"15\",\"11\",\"said\",\"before\",\"floods\",\"little\",\"everyone\",\"coming\",\"state\",\"9\",\"night\",\"water\",\"come\",\"while\",\"god\",\"ass\",\"during\",\"70\",\"fucking\",\"im\",\"injured\",\"wreckage\",\"malaysia\",\"photo\",\"shit\",\"earthquake\",\"oil\",\"plan\",\"stop\",\"any\",\"debris\",\"near\",\"found\",\"weapon\",\"says\",\"wild\",\"heat\",\"these\",\"i've\",\"evacuation\",\"movie\",\"air\",\"devastated\",\"hope\",\"services\",\"always\",\"made\",\"thunder\",\"head\",\"next\",\"high\",\"thunderstorm\",\"well\",\"read\",\"terrorist\",\"smoke\",\"injuries\",\"weather\",\"loud\",\"bloody\",\"trapped\",\"cause\",\"flooding\",\"top\",\"until\",\"military\",\"run\",\"family\",\"service\",\"hazard\",\"rescue\",\"blood\",\"change\",\"fall\",\"10\",\"fatalities\",\"rain\",\"cross\",\"set\",\"terrorism\",\"08\",\"saudi\",\"natural\",\"check\",\"road\",\"hail\",\"screaming\",\"show\",\"truck\",\"danger\",\"area\",\"content\",\"wave\",\"bad\",\"explode\",\"again\",\"that's\",\"looks\",\"evacuate\",\"migrants\",\"big\",\"panic\",\"derail\",\"boy\",\"ruin\",\"report\",\"he's\",\"trauma\",\"hurricane\",\"murder\",\"boat\",\"better\",\"without\",\"injury\",\"tsunami\",\"ambulance\",\"engulfed\",\"hostages\",\"destroyed\",\"free\",\"warning\",\"away\",\"house\",\"screams\",\"liked\",\"o\",\"ok\",\"d\",\"whirlwind\",\"harm\",\"self\",\"wind\",\"breaking\",\"m\",\"investigators\",\"around\",\"end\",\"fuck\",\"twister\",\"released\",\"crashed\",\"face\",\"girl\",\"phone\",\"spill\",\"real\",\"sinkhole\",\"failure\",\"derailment\",\"40\",\"put\",\"7\",\"fatality\",\"survive\",\"rescuers\",\"rioting\",\"whole\",\"missing\",\"charged\",\"deaths\",\"update\",\"group\",\"gonna\",\"displaced\",\"through\",\"reddit\",\"hundreds\",\"bombed\",\"destroy\",\"collapsed\",\"deluge\",\"anniversary\",\"devastation\",\"island\",\"does\",\"blown\",\"apocalypse\",\"survived\",\"someone\",\"keep\",\"outbreak\",\"severe\",\"explosion\",\"destruction\",\"bus\",\"tonight\",\"burned\",\"saw\",\"call\",\"times\",\"bang\",\"30\",\"iran\",\"p\",\"used\",\"post\",\"n\",\"went\",\"weapons\",\"collided\",\"rescued\",\"attacked\",\"things\",\"kids\",\"heard\",\"windstorm\",\"sandstorm\",\"sinking\",\"river\",\"traumatised\",\"trouble\",\"use\",\"least\",\"inundated\",\"'the\",\"wanna\",\"electrocute\",\"rainstorm\",\"derailed\",\"meltdown\",\"week\",\"yet\",\"wrecked\",\"collision\",\"bag\",\"oh\",\"affected\",\"battle\",\"caused\",\"survivors\",\"media\",\"st\",\"zone\",\"red\",\"mosque\",\"summer\",\"bleeding\",\"security\",\"bagging\",\"curfew\",\"riot\",\"airplane\",\"catastrophe\",\"thing\",\"crush\",\"yes\",\"isis\",\"horror\",\"razed\",\"seismic\",\"famine\",\"long\",\"stretcher\",\"twitter\",\"murderer\",\"lightning\",\"drought\",\"past\",\"bags\",\"structural\",\"wounds\",\"hostage\",\"there's\",\"siren\",\"doing\",\"heart\",\"national\",\"part\",\"upheaval\",\"also\",\"kills\"],\"legendgroup\":\"\",\"marker\":{\"color\":[-0.0966687798500061,-0.08291090279817581,-0.12479366362094879,-0.07935137301683426,-0.13333839178085327,-0.07122650742530823,0.164229154586792,-0.13207073509693146,0.02315574698150158,-0.28436368703842163,-0.12443001568317413,-0.10243003070354462,-0.19133260846138,-0.002526460913941264,-0.5664629340171814,-0.47726354002952576,-0.25080162286758423,-0.14716264605522156,-0.19077835977077484,0.14752088487148285,-0.10303163528442383,-0.20005379617214203,0.11034796386957169,-0.11286965757608414,-0.10728481411933899,-0.27323654294013977,0.02614043839275837,0.1376858502626419,-0.23333700001239777,0.005613664165139198,-0.030140550807118416,-0.24526892602443695,0.008376294746994972,0.03910890221595764,-0.08265931904315948,-0.18626375496387482,-0.5676347613334656,-0.17142173647880554,-0.48710981011390686,-0.042829979211091995,-0.348893404006958,0.31760501861572266,0.006595476530492306,-0.16824984550476074,0.011344085447490215,-0.3716862201690674,0.45334145426750183,-0.08132874965667725,-0.2675306499004364,-0.10201288759708405,-0.07301255315542221,-0.13488918542861938,-0.12895283102989197,-0.6185716390609741,-0.10727346688508987,-0.1461450606584549,-0.029722871258854866,-0.11104760318994522,0.04016534984111786,-0.047188688069581985,0.22123831510543823,-0.31718260049819946,0.21767103672027588,-0.08775275945663452,-0.2516053020954132,-0.36846691370010376,-0.3220905661582947,-0.07907795906066895,-0.21406418085098267,-0.1827346831560135,-0.4224163293838501,0.05345859006047249,-0.3351624608039856,0.023813076317310333,-0.11543507128953934,-0.1814255267381668,0.5172980427742004,-0.31805527210235596,-0.19572296738624573,-0.05828942731022835,-0.17173229157924652,-0.13176916539669037,-0.2718327045440674,0.43671053647994995,-0.19268798828125,0.012459851801395416,-0.24177338182926178,-0.1890367865562439,-0.4649101793766022,0.40241116285324097,-0.5024251937866211,-0.37029293179512024,-0.19086766242980957,0.04696818068623543,-0.13674995303153992,0.7012421488761902,0.8710362315177917,0.014970649965107441,0.1837097853422165,-0.1961003988981247,-0.26143378019332886,-0.21443799138069153,0.26295217871665955,-0.11792631447315216,-0.02723323553800583,-0.200805202126503,0.12298819422721863,-0.2730269134044647,0.4846530258655548,0.13139396905899048,-0.11148626357316971,0.6861522793769836,0.8495913743972778,0.13058041036128998,0.7793535590171814,-0.27865856885910034,0.022690247744321823,-0.4025726616382599,0.25758522748947144,1.2672170400619507,0.7443147301673889,0.040026240050792694,0.25979122519493103,-0.15939302742481232,0.29673445224761963,-0.1021670550107956,0.5606344938278198,-0.04593602567911148,0.17683395743370056,-0.807266116142273,0.07589004933834076,-0.04001915082335472,-0.6621890664100647,1.0730855464935303,0.17564153671264648,-0.023745201528072357,-0.38518640398979187,0.05731131508946419,-0.05378660187125206,0.4071507155895233,-0.2697886526584625,0.42677071690559387,0.3198397755622864,0.01702938787639141,-0.16952741146087646,0.18639984726905823,-0.337047278881073,-0.20620933175086975,-0.34785398840904236,0.06277061253786087,0.7533674240112305,0.043539416044950485,0.4130221903324127,0.08082905411720276,-0.05161125212907791,-0.2982094883918762,-0.27293241024017334,0.4647250175476074,-0.5086326003074646,-0.1695522964000702,0.40745747089385986,0.6949436664581299,-0.4365801513195038,0.9188930988311768,-0.33655205368995667,-0.11695612967014313,0.5754759311676025,-0.08912360668182373,-0.21602126955986023,0.3818296790122986,-0.24147234857082367,0.3468536138534546,0.7946223020553589,-0.3405798673629761,-0.2728264629840851,0.12990261614322662,-0.14850115776062012,-0.40538114309310913,-0.2713623046875,-0.06355847418308258,-0.0015480207512155175,-0.1498604565858841,0.07723706215620041,-0.33506935834884644,0.05953501909971237,-0.24751456081867218,0.8207129836082458,-0.09330196678638458,-0.07849296927452087,0.3955174684524536,-0.43132659792900085,-0.10944000631570816,-0.40943554043769836,0.2678646743297577,-0.29201599955558777,0.20873403549194336,0.4221293330192566,-0.07513447850942612,0.2738078832626343,-0.6701873540878296,0.09849349409341812,-0.46729522943496704,-0.04782138019800186,-0.26780250668525696,0.6204330921173096,-0.2828075885772705,0.5656241774559021,-0.42245134711265564,-0.478779137134552,0.8859807252883911,0.9586643576622009,-0.09308864176273346,0.05595551058650017,-0.4313886761665344,1.036383867263794,-0.521559476852417,-0.09723164141178131,0.4959849715232849,-0.03584398329257965,-0.323787659406662,-0.031915806233882904,0.2754737138748169,0.09794460237026215,-0.09902111440896988,-0.11106204241514206,0.5394347906112671,0.19949688017368317,-0.27676767110824585,0.18323859572410583,-0.18794946372509003,-0.1071280762553215,-0.010259388945996761,0.7044262886047363,-0.31538546085357666,-0.32874804735183716,-0.12956176698207855,0.18262599408626556,0.10314946621656418,-0.5220702290534973,0.0006181718199513853,-0.634026825428009,0.09265458583831787,-0.33488595485687256,-0.42003321647644043,0.44565367698669434,0.6726459264755249,-0.5516818761825562,-0.27415794134140015,0.4730057120323181,0.8287596702575684,0.2640550136566162,-0.29542532563209534,-0.16777925193309784,0.9966443777084351,0.3269270062446594,0.12616074085235596,-0.23643676936626434,-0.4461632966995239,1.0286749601364136,0.5035796761512756,0.5066971182823181,0.18837976455688477,-0.03288796544075012,0.10524963587522507,0.45560547709465027,-0.2595154345035553,-0.5049227476119995,0.8017516732215881,-0.24302387237548828,0.2047063112258911,0.20574317872524261,-0.03100653365254402,-0.11044058948755264,-0.1794452965259552,-0.491808146238327,0.38152238726615906,-0.5415554046630859,-0.1540418267250061,-0.1603323519229889,0.12551534175872803,0.0592167042195797,-0.17847967147827148,0.6926243305206299,-0.475918173789978,-0.01027014572173357,0.5395286679267883,0.32679176330566406,-0.29523831605911255,-0.18100561201572418,0.1691082864999771,0.8977755904197693,-0.3330558240413666,-0.14026184380054474,-0.14317145943641663,-0.08955397456884384,-0.2575037479400635,-0.040680475533008575,-0.6768746376037598,-0.371643990278244,0.15292124450206757,-0.3294048607349396,-0.4821958839893341,0.0806133896112442,0.07316691428422928,0.6660598516464233,-0.2467035949230194,0.16483205556869507,0.4768407940864563,0.10018078237771988,0.294832706451416,0.12329152226448059,-0.289340078830719,0.09399238228797913,0.4445488154888153,-0.8289694786071777,-0.6759084463119507,0.03208424150943756,-0.2373284548521042,0.47847622632980347,-0.08956746011972427,0.006011663004755974,0.052817147225141525,-0.8013487458229065,-0.044061098247766495,0.27787625789642334,0.19723302125930786,0.33561399579048157,0.8243094086647034,-0.16736015677452087,-0.4692974090576172,-0.09975297003984451,0.2196587771177292,-0.6466063857078552,0.5977498292922974,-0.5127172470092773,0.09285463392734528,0.7491940259933472,0.667181670665741,0.2840779423713684,-0.9554793238639832,-0.2639515995979309,-0.04343385249376297,-0.010637534782290459,-0.07431774586439133,-0.10681987553834915,0.36079832911491394,-0.3779814541339874,-0.4112628996372223,0.7774720191955566,-0.07960812002420425,-0.03531463444232941,-0.34570518136024475,-0.20907609164714813,-0.6700358986854553,0.18997523188591003,0.07328058779239655,-0.06775840371847153,-0.3376215100288391,-0.45466524362564087,0.2135218232870102,0.3084125220775604,-0.1826907992362976,0.7705763578414917,-0.18788771331310272,-0.051774099469184875,-0.4586760997772217,-0.8463655114173889,-0.19927681982517242,0.7932752966880798,-0.26279741525650024,-0.12987513840198517,-0.3862250745296478,1.2016289234161377,-0.2556694447994232,0.33072370290756226,-0.04059603065252304,1.360998511314392,0.11983543634414673,-0.5955888032913208,-0.1645812690258026,-0.2593199610710144,-0.1272071897983551,0.5311071872711182,0.5302152633666992,0.19035950303077698,0.2621939778327942,0.7104113698005676,0.6906473636627197,0.46555963158607483,0.24001644551753998,0.11258470267057419,0.4731951355934143,-0.11263544857501984,-0.4727526903152466,0.5022091269493103,0.14616946876049042,0.0002883371780626476,0.24919262528419495,-0.5419397354125977,0.3193702697753906,0.16597683727741241,0.2705717384815216,0.21477928757667542,-0.5641054511070251,-0.2236924022436142,-0.11246530711650848,-0.03157105669379234,0.08040091395378113,0.900842010974884,0.9073049426078796,0.17857228219509125,-0.47913631796836853,0.24255934357643127,-0.3322705626487732,-0.13590551912784576,0.30243995785713196,0.3636002242565155,0.06509532779455185,-0.0643765926361084,0.13217248022556305,0.3913876712322235,-0.12436448782682419,-0.3080948293209076,-0.4950309991836548,0.5856322646141052,-0.17306315898895264,0.14258067309856415,0.17201665043830872,-0.07240228354930878,0.47364920377731323,-0.06134917214512825,-0.03620126098394394,0.2491447776556015,0.028576906770467758,0.18576346337795258,-0.27014654874801636,-0.21469636261463165,-0.5145334005355835,-0.6325045824050903,0.0942474827170372,0.016787730157375336,-0.26351267099380493,0.022519756108522415,-0.2820373475551605,-0.6201379895210266,0.37143468856811523,0.47552457451820374,-0.3067515194416046,-0.005499302409589291,-0.28752192854881287,-0.768044650554657,0.34708544611930847,-0.43220940232276917,-0.1714932769536972,0.36364051699638367,-0.39189016819000244,0.7027698755264282,0.24227729439735413,0.036893196403980255,-0.05188446119427681,-0.14285235106945038,-0.46213188767433167,0.3875340521335602,-0.1297987699508667,-0.34676674008369446,-0.20094698667526245,-0.4449576139450073,-0.6726248264312744,-0.4531919062137604,0.19175316393375397,-0.5729326009750366,-0.23342539370059967,-0.10460325330495834,-0.13888952136039734,0.2099977433681488,0.5810799598693848,-0.07172398269176483,0.11022098362445831,0.5544881224632263,-0.43586090207099915,-0.38574400544166565,-0.16758909821510315,0.33227452635765076,0.263424813747406,1.0553544759750366,0.07174808531999588,-1.152774691581726,0.006255276966840029,-0.062307409942150116,0.3440084159374237,-0.2616211175918579,-0.19305425882339478,-0.34970909357070923,-0.0214027501642704,-0.07592157274484634,-0.3220457136631012,-0.42341089248657227,-0.6084675788879395,0.8644593954086304],\"coloraxis\":\"coloraxis\",\"symbol\":\"circle\"},\"mode\":\"markers\",\"name\":\"\",\"scene\":\"scene\",\"showlegend\":false,\"x\":[-0.0966687798500061,-0.08291090279817581,-0.12479366362094879,-0.07935137301683426,-0.13333839178085327,-0.07122650742530823,0.164229154586792,-0.13207073509693146,0.02315574698150158,-0.28436368703842163,-0.12443001568317413,-0.10243003070354462,-0.19133260846138,-0.002526460913941264,-0.5664629340171814,-0.47726354002952576,-0.25080162286758423,-0.14716264605522156,-0.19077835977077484,0.14752088487148285,-0.10303163528442383,-0.20005379617214203,0.11034796386957169,-0.11286965757608414,-0.10728481411933899,-0.27323654294013977,0.02614043839275837,0.1376858502626419,-0.23333700001239777,0.005613664165139198,-0.030140550807118416,-0.24526892602443695,0.008376294746994972,0.03910890221595764,-0.08265931904315948,-0.18626375496387482,-0.5676347613334656,-0.17142173647880554,-0.48710981011390686,-0.042829979211091995,-0.348893404006958,0.31760501861572266,0.006595476530492306,-0.16824984550476074,0.011344085447490215,-0.3716862201690674,0.45334145426750183,-0.08132874965667725,-0.2675306499004364,-0.10201288759708405,-0.07301255315542221,-0.13488918542861938,-0.12895283102989197,-0.6185716390609741,-0.10727346688508987,-0.1461450606584549,-0.029722871258854866,-0.11104760318994522,0.04016534984111786,-0.047188688069581985,0.22123831510543823,-0.31718260049819946,0.21767103672027588,-0.08775275945663452,-0.2516053020954132,-0.36846691370010376,-0.3220905661582947,-0.07907795906066895,-0.21406418085098267,-0.1827346831560135,-0.4224163293838501,0.05345859006047249,-0.3351624608039856,0.023813076317310333,-0.11543507128953934,-0.1814255267381668,0.5172980427742004,-0.31805527210235596,-0.19572296738624573,-0.05828942731022835,-0.17173229157924652,-0.13176916539669037,-0.2718327045440674,0.43671053647994995,-0.19268798828125,0.012459851801395416,-0.24177338182926178,-0.1890367865562439,-0.4649101793766022,0.40241116285324097,-0.5024251937866211,-0.37029293179512024,-0.19086766242980957,0.04696818068623543,-0.13674995303153992,0.7012421488761902,0.8710362315177917,0.014970649965107441,0.1837097853422165,-0.1961003988981247,-0.26143378019332886,-0.21443799138069153,0.26295217871665955,-0.11792631447315216,-0.02723323553800583,-0.200805202126503,0.12298819422721863,-0.2730269134044647,0.4846530258655548,0.13139396905899048,-0.11148626357316971,0.6861522793769836,0.8495913743972778,0.13058041036128998,0.7793535590171814,-0.27865856885910034,0.022690247744321823,-0.4025726616382599,0.25758522748947144,1.2672170400619507,0.7443147301673889,0.040026240050792694,0.25979122519493103,-0.15939302742481232,0.29673445224761963,-0.1021670550107956,0.5606344938278198,-0.04593602567911148,0.17683395743370056,-0.807266116142273,0.07589004933834076,-0.04001915082335472,-0.6621890664100647,1.0730855464935303,0.17564153671264648,-0.023745201528072357,-0.38518640398979187,0.05731131508946419,-0.05378660187125206,0.4071507155895233,-0.2697886526584625,0.42677071690559387,0.3198397755622864,0.01702938787639141,-0.16952741146087646,0.18639984726905823,-0.337047278881073,-0.20620933175086975,-0.34785398840904236,0.06277061253786087,0.7533674240112305,0.043539416044950485,0.4130221903324127,0.08082905411720276,-0.05161125212907791,-0.2982094883918762,-0.27293241024017334,0.4647250175476074,-0.5086326003074646,-0.1695522964000702,0.40745747089385986,0.6949436664581299,-0.4365801513195038,0.9188930988311768,-0.33655205368995667,-0.11695612967014313,0.5754759311676025,-0.08912360668182373,-0.21602126955986023,0.3818296790122986,-0.24147234857082367,0.3468536138534546,0.7946223020553589,-0.3405798673629761,-0.2728264629840851,0.12990261614322662,-0.14850115776062012,-0.40538114309310913,-0.2713623046875,-0.06355847418308258,-0.0015480207512155175,-0.1498604565858841,0.07723706215620041,-0.33506935834884644,0.05953501909971237,-0.24751456081867218,0.8207129836082458,-0.09330196678638458,-0.07849296927452087,0.3955174684524536,-0.43132659792900085,-0.10944000631570816,-0.40943554043769836,0.2678646743297577,-0.29201599955558777,0.20873403549194336,0.4221293330192566,-0.07513447850942612,0.2738078832626343,-0.6701873540878296,0.09849349409341812,-0.46729522943496704,-0.04782138019800186,-0.26780250668525696,0.6204330921173096,-0.2828075885772705,0.5656241774559021,-0.42245134711265564,-0.478779137134552,0.8859807252883911,0.9586643576622009,-0.09308864176273346,0.05595551058650017,-0.4313886761665344,1.036383867263794,-0.521559476852417,-0.09723164141178131,0.4959849715232849,-0.03584398329257965,-0.323787659406662,-0.031915806233882904,0.2754737138748169,0.09794460237026215,-0.09902111440896988,-0.11106204241514206,0.5394347906112671,0.19949688017368317,-0.27676767110824585,0.18323859572410583,-0.18794946372509003,-0.1071280762553215,-0.010259388945996761,0.7044262886047363,-0.31538546085357666,-0.32874804735183716,-0.12956176698207855,0.18262599408626556,0.10314946621656418,-0.5220702290534973,0.0006181718199513853,-0.634026825428009,0.09265458583831787,-0.33488595485687256,-0.42003321647644043,0.44565367698669434,0.6726459264755249,-0.5516818761825562,-0.27415794134140015,0.4730057120323181,0.8287596702575684,0.2640550136566162,-0.29542532563209534,-0.16777925193309784,0.9966443777084351,0.3269270062446594,0.12616074085235596,-0.23643676936626434,-0.4461632966995239,1.0286749601364136,0.5035796761512756,0.5066971182823181,0.18837976455688477,-0.03288796544075012,0.10524963587522507,0.45560547709465027,-0.2595154345035553,-0.5049227476119995,0.8017516732215881,-0.24302387237548828,0.2047063112258911,0.20574317872524261,-0.03100653365254402,-0.11044058948755264,-0.1794452965259552,-0.491808146238327,0.38152238726615906,-0.5415554046630859,-0.1540418267250061,-0.1603323519229889,0.12551534175872803,0.0592167042195797,-0.17847967147827148,0.6926243305206299,-0.475918173789978,-0.01027014572173357,0.5395286679267883,0.32679176330566406,-0.29523831605911255,-0.18100561201572418,0.1691082864999771,0.8977755904197693,-0.3330558240413666,-0.14026184380054474,-0.14317145943641663,-0.08955397456884384,-0.2575037479400635,-0.040680475533008575,-0.6768746376037598,-0.371643990278244,0.15292124450206757,-0.3294048607349396,-0.4821958839893341,0.0806133896112442,0.07316691428422928,0.6660598516464233,-0.2467035949230194,0.16483205556869507,0.4768407940864563,0.10018078237771988,0.294832706451416,0.12329152226448059,-0.289340078830719,0.09399238228797913,0.4445488154888153,-0.8289694786071777,-0.6759084463119507,0.03208424150943756,-0.2373284548521042,0.47847622632980347,-0.08956746011972427,0.006011663004755974,0.052817147225141525,-0.8013487458229065,-0.044061098247766495,0.27787625789642334,0.19723302125930786,0.33561399579048157,0.8243094086647034,-0.16736015677452087,-0.4692974090576172,-0.09975297003984451,0.2196587771177292,-0.6466063857078552,0.5977498292922974,-0.5127172470092773,0.09285463392734528,0.7491940259933472,0.667181670665741,0.2840779423713684,-0.9554793238639832,-0.2639515995979309,-0.04343385249376297,-0.010637534782290459,-0.07431774586439133,-0.10681987553834915,0.36079832911491394,-0.3779814541339874,-0.4112628996372223,0.7774720191955566,-0.07960812002420425,-0.03531463444232941,-0.34570518136024475,-0.20907609164714813,-0.6700358986854553,0.18997523188591003,0.07328058779239655,-0.06775840371847153,-0.3376215100288391,-0.45466524362564087,0.2135218232870102,0.3084125220775604,-0.1826907992362976,0.7705763578414917,-0.18788771331310272,-0.051774099469184875,-0.4586760997772217,-0.8463655114173889,-0.19927681982517242,0.7932752966880798,-0.26279741525650024,-0.12987513840198517,-0.3862250745296478,1.2016289234161377,-0.2556694447994232,0.33072370290756226,-0.04059603065252304,1.360998511314392,0.11983543634414673,-0.5955888032913208,-0.1645812690258026,-0.2593199610710144,-0.1272071897983551,0.5311071872711182,0.5302152633666992,0.19035950303077698,0.2621939778327942,0.7104113698005676,0.6906473636627197,0.46555963158607483,0.24001644551753998,0.11258470267057419,0.4731951355934143,-0.11263544857501984,-0.4727526903152466,0.5022091269493103,0.14616946876049042,0.0002883371780626476,0.24919262528419495,-0.5419397354125977,0.3193702697753906,0.16597683727741241,0.2705717384815216,0.21477928757667542,-0.5641054511070251,-0.2236924022436142,-0.11246530711650848,-0.03157105669379234,0.08040091395378113,0.900842010974884,0.9073049426078796,0.17857228219509125,-0.47913631796836853,0.24255934357643127,-0.3322705626487732,-0.13590551912784576,0.30243995785713196,0.3636002242565155,0.06509532779455185,-0.0643765926361084,0.13217248022556305,0.3913876712322235,-0.12436448782682419,-0.3080948293209076,-0.4950309991836548,0.5856322646141052,-0.17306315898895264,0.14258067309856415,0.17201665043830872,-0.07240228354930878,0.47364920377731323,-0.06134917214512825,-0.03620126098394394,0.2491447776556015,0.028576906770467758,0.18576346337795258,-0.27014654874801636,-0.21469636261463165,-0.5145334005355835,-0.6325045824050903,0.0942474827170372,0.016787730157375336,-0.26351267099380493,0.022519756108522415,-0.2820373475551605,-0.6201379895210266,0.37143468856811523,0.47552457451820374,-0.3067515194416046,-0.005499302409589291,-0.28752192854881287,-0.768044650554657,0.34708544611930847,-0.43220940232276917,-0.1714932769536972,0.36364051699638367,-0.39189016819000244,0.7027698755264282,0.24227729439735413,0.036893196403980255,-0.05188446119427681,-0.14285235106945038,-0.46213188767433167,0.3875340521335602,-0.1297987699508667,-0.34676674008369446,-0.20094698667526245,-0.4449576139450073,-0.6726248264312744,-0.4531919062137604,0.19175316393375397,-0.5729326009750366,-0.23342539370059967,-0.10460325330495834,-0.13888952136039734,0.2099977433681488,0.5810799598693848,-0.07172398269176483,0.11022098362445831,0.5544881224632263,-0.43586090207099915,-0.38574400544166565,-0.16758909821510315,0.33227452635765076,0.263424813747406,1.0553544759750366,0.07174808531999588,-1.152774691581726,0.006255276966840029,-0.062307409942150116,0.3440084159374237,-0.2616211175918579,-0.19305425882339478,-0.34970909357070923,-0.0214027501642704,-0.07592157274484634,-0.3220457136631012,-0.42341089248657227,-0.6084675788879395,0.8644593954086304],\"y\":[-0.004541803617030382,-0.2447090744972229,-0.10245773196220398,-0.14985878765583038,-0.07632739096879959,-0.015635058283805847,0.028748197481036186,-0.10939722508192062,0.061160553246736526,0.07570699602365494,0.14511463046073914,0.08290692418813705,-0.04778917506337166,0.08393768221139908,-0.13991503417491913,-0.10431452840566635,-0.08859992772340775,-0.17157596349716187,-0.07939140498638153,-0.34838369488716125,-0.1683262288570404,-0.024484356865286827,-0.24022912979125977,0.28650420904159546,0.0287933312356472,0.07033148407936096,-0.031765349209308624,-0.07475262135267258,-0.22473450005054474,0.05488821864128113,-0.06178969517350197,-0.07668855786323547,0.04678699001669884,-0.3114688992500305,0.03308843448758125,0.017233315855264664,0.10277650505304337,0.15503345429897308,0.11741787195205688,0.09720536321401596,0.07838530838489532,-0.15414318442344666,-0.1119195818901062,0.10673412680625916,-0.2921658754348755,0.23600919544696808,0.07135486602783203,0.07705796509981155,0.2886101305484772,-0.12220130115747452,0.05609579384326935,-0.021950315684080124,0.07982473820447922,0.09123443067073822,-0.09661128371953964,0.06520673632621765,0.12273096293210983,-0.05913698300719261,-0.37198492884635925,-0.2154999077320099,-0.1685081571340561,0.0414181649684906,-0.0014904356794431806,0.05857374146580696,-0.1421811878681183,-0.16795900464057922,-0.05842674523591995,-0.0031807043123990297,0.0033581505995243788,-0.1456134021282196,0.07485053688287735,0.1850205957889557,-0.10311581194400787,0.18884916603565216,0.37918582558631897,0.09286677837371826,0.31662091612815857,0.016132688149809837,-0.06214442849159241,-0.21081499755382538,-0.1792394071817398,0.09026286751031876,0.1425194889307022,-0.10909219086170197,-0.05722322687506676,0.02231229841709137,-0.10140442103147507,-0.08861028403043747,-0.17110902070999146,-0.1760302037000656,-0.04526709392666817,0.03258652240037918,-0.33103758096694946,-0.10754619538784027,0.16471834480762482,0.08041343837976456,0.09397256374359131,-0.3340988755226135,-0.14979104697704315,-0.474039226770401,-0.2034469097852707,0.20279283821582794,-0.21067945659160614,0.09958016127347946,-0.12569984793663025,0.03187572956085205,-0.22851350903511047,0.2109559029340744,-0.060868144035339355,-0.3526291251182556,-0.16316862404346466,0.07024828344583511,0.04390405863523483,-0.1300210803747177,-0.17604918777942657,-0.10579428821802139,-0.0512709766626358,-0.16861259937286377,-0.004423587117344141,0.12856850028038025,-0.04645542800426483,-0.08882416784763336,0.06582700461149216,0.32087767124176025,0.09139090776443481,0.18504698574543,0.14415590465068817,-0.35999396443367004,0.05660833790898323,-0.41794130206108093,-0.16769008338451385,0.21122339367866516,0.03839081898331642,0.1574997454881668,-0.12028762698173523,0.2022087424993515,-0.08053766936063766,0.0910024344921112,-0.07358158379793167,0.047229837626218796,-0.36972445249557495,0.2446199357509613,-0.04626379907131195,-0.25896671414375305,0.025660106912255287,-0.17733024060726166,0.2247745841741562,-0.22185200452804565,0.21185573935508728,0.11985338479280472,-0.16107682883739471,-0.20739628374576569,-0.11855415999889374,-0.3540702760219574,0.521933376789093,0.21493569016456604,-0.02553386054933071,-0.09019001573324203,0.011331012472510338,0.5258648991584778,-0.10164342820644379,-0.01610187068581581,-0.002492769854143262,0.057476289570331573,0.14735490083694458,0.7262454032897949,0.03231501579284668,0.10818198323249817,0.21270692348480225,-0.05242777615785599,-0.27148187160491943,0.017946751788258553,0.02928335964679718,-0.18717001378536224,0.14661283791065216,0.16357064247131348,0.14041976630687714,-0.19881148636341095,-0.03659109026193619,0.049225836992263794,0.3147665858268738,-0.03820011019706726,0.14585036039352417,0.19066749513149261,0.014177118428051472,-0.22626928985118866,-0.019832415506243706,-0.09201011061668396,-0.09770745038986206,0.005581950768828392,-0.01414114236831665,0.18375574052333832,0.06027953326702118,0.18181906640529633,-0.4028691053390503,-0.12614722549915314,-0.42680495977401733,0.3203202188014984,-0.27468523383140564,0.13070139288902283,0.14746323227882385,0.23439021408557892,-0.0886559933423996,-0.011678209528326988,0.023897727951407433,0.29916873574256897,0.3657563030719757,0.0880330428481102,0.0907026082277298,0.013812041841447353,-0.0705520436167717,-0.25972360372543335,-0.04628393426537514,-0.004856810439378023,0.07529058307409286,-0.052389174699783325,0.29237568378448486,0.16931670904159546,-0.2366214394569397,0.12698706984519958,-0.11067137122154236,0.2239784598350525,0.0753200501203537,-0.14932996034622192,0.11314234137535095,0.12520760297775269,0.23528705537319183,-0.18441762030124664,0.19175410270690918,0.09985803067684174,-0.06729579716920853,-0.288186252117157,0.2930131256580353,0.06625700742006302,0.09719053655862808,-0.2283434271812439,-0.030837424099445343,0.023757435381412506,0.06391987204551697,-0.01819702796638012,0.2983834147453308,-0.0325314924120903,0.07238461077213287,-0.25107839703559875,0.19032613933086395,-0.2153417319059372,0.03904059901833534,-0.004289040807634592,-0.17842771112918854,0.12312633544206619,-0.034579258412122726,0.09836168587207794,-0.28557419776916504,0.08798123151063919,-0.25301364064216614,-0.03276892006397247,0.12508732080459595,0.0299973227083683,-0.13976192474365234,-0.0005629092338494956,0.36050140857696533,-0.3728412389755249,-0.07365710288286209,-0.09908624738454819,-0.13273605704307556,-0.1645592451095581,-0.18330474197864532,-0.38315245509147644,-0.0018078690627589822,0.20632442831993103,0.09066186100244522,-0.051660407334566116,0.08857332915067673,0.004435723647475243,0.06603773683309555,0.18732133507728577,-0.27859437465667725,0.08948762714862823,0.30106693506240845,-0.4587400555610657,-0.1712156981229782,-0.05380379408597946,0.09115271270275116,0.17342986166477203,0.0400250181555748,0.15060114860534668,-0.04478345066308975,0.3629586100578308,-0.16195175051689148,0.17921225726604462,0.004755001049488783,0.08168885856866837,0.11863250285387039,0.027444548904895782,0.05210897698998451,-0.18199600279331207,0.19509227573871613,0.11448612809181213,0.0723685696721077,-0.1123289167881012,0.016386626288294792,-0.1986638456583023,-0.09528009593486786,0.30117979645729065,0.14246000349521637,-0.19782285392284393,0.17039306461811066,-0.08072388917207718,0.0517670176923275,0.049864962697029114,-0.01681048423051834,0.15286870300769806,-0.22881823778152466,0.3307967483997345,-0.3887382745742798,-0.16513413190841675,0.0581735260784626,-0.28093063831329346,0.057985417544841766,-0.020398112013936043,-0.293737530708313,-0.27927330136299133,0.08080792427062988,-0.1660795658826828,0.3072341978549957,-0.2670705020427704,0.22746555507183075,0.012665923684835434,-0.0031334557570517063,0.09964332729578018,0.3602006137371063,-0.4278997480869293,0.0072857048362493515,-0.25142186880111694,0.024133959785103798,0.11389408260583878,-0.15701937675476074,0.22272254526615143,-0.14515595138072968,0.18740782141685486,-0.030977513641119003,0.11838094890117645,0.546420156955719,-0.3392390310764313,0.3278912603855133,0.2257384955883026,-0.14671947062015533,0.058017440140247345,-0.1706140637397766,0.2541659474372864,-0.005638789385557175,-0.07302495092153549,0.06582647562026978,0.2050197720527649,0.21539407968521118,-0.10632631182670593,0.04469824954867363,0.31940650939941406,0.013353769667446613,0.07486140727996826,0.16794201731681824,0.03040241077542305,0.05791566148400307,-0.10047024488449097,-0.05493839457631111,0.2809107303619385,0.16264718770980835,-0.03899001330137253,-0.1411372721195221,0.042241133749485016,0.16724303364753723,-0.14912016689777374,0.03428786247968674,0.33115941286087036,0.3494427800178528,-0.0016113437013700604,-0.15114659070968628,-0.039218924939632416,-0.23460114002227783,-0.1891491860151291,-0.31200259923934937,-0.3795076012611389,-0.027488892897963524,0.23143059015274048,0.20611853897571564,0.05051472410559654,0.23216849565505981,-0.09612692892551422,0.09185992926359177,0.10920993238687515,-0.2515479624271393,0.2306729406118393,-0.015543192625045776,-0.16475477814674377,0.07543325424194336,-0.23441550135612488,0.02865137718617916,0.00033335742773488164,0.14845095574855804,0.36335667967796326,0.267532080411911,0.10011852532625198,0.06674078851938248,0.04487095773220062,0.23695982992649078,-0.29155558347702026,0.01285924669355154,-0.2046186327934265,0.019027015194296837,-0.011525336652994156,0.4237842857837677,-0.3015536367893219,-0.23527124524116516,-0.08414038270711899,-0.15071560442447662,-0.278184175491333,-0.15914370119571686,-0.019562026485800743,-0.1990147829055786,-0.09745930135250092,-0.1328839659690857,0.07020949572324753,-0.2134341597557068,0.1252632886171341,-0.02494058571755886,-0.1433521956205368,0.41970211267471313,-0.17681579291820526,0.2826937735080719,-0.02840746007859707,0.15149976313114166,0.06647613644599915,0.037961237132549286,-0.010585790500044823,-0.10189332813024521,0.09320472180843353,0.004853961057960987,-0.3204326927661896,-0.2074597030878067,0.04044539853930473,-0.383244127035141,-0.23205722868442535,-0.21449029445648193,0.1430123895406723,-0.16276651620864868,0.12133872509002686,-0.2225167453289032,0.11708305031061172,0.04937385767698288,0.004616470076143742,0.127788245677948,0.0033833712805062532,0.05182073637843132,0.15774141252040863,0.07851611077785492,0.17285765707492828,0.11732568591833115,0.013254312798380852,-0.1862548440694809,0.08811730891466141,-0.05586696043610573,-0.2771620750427246,-0.1010451689362526,0.2440217286348343,0.37749016284942627,0.21668009459972382,0.17784957587718964,0.29782724380493164,0.2452973872423172,0.408037394285202,-0.10673215985298157,-0.2272452563047409,0.04423094540834427,0.03343468904495239,-0.016167642548680305,-0.0896657407283783,-0.12439757585525513,-0.23524487018585205,-0.13095012307167053,0.0629260241985321,0.1105266809463501,-0.18745924532413483,0.13388390839099884,0.09411001950502396,-0.3233010172843933,0.23006166517734528,-0.024540234357118607,-0.034544527530670166,0.4111460745334625,-0.1402888298034668,0.056821975857019424,0.18081717193126678,-0.09244463592767715,-0.12365789711475372,-0.18776626884937286,-0.28611287474632263,0.057487644255161285,0.3114793598651886,0.038575440645217896],\"z\":[-0.10872146487236023,0.057072389870882034,-0.04669519513845444,-0.014430313371121883,-0.07837547361850739,0.05342496186494827,-0.1697380393743515,0.08322704583406448,0.08021801710128784,-0.13273762166500092,-0.008344926871359348,0.08757428824901581,0.019390862435102463,0.13377788662910461,0.12669089436531067,0.005205984227359295,-0.20892325043678284,-0.05853797495365143,0.021174566820263863,0.10782241076231003,-0.14893363416194916,-0.13682377338409424,0.06361502408981323,-0.050114672631025314,-0.03108486346900463,0.2383110225200653,-0.07836128026247025,0.04034778103232384,-0.08145473897457123,0.3042718470096588,-0.21019786596298218,0.06526961922645569,0.2985784411430359,0.20484144985675812,-0.20701292157173157,-0.20899276435375214,-0.29214343428611755,-0.1722395122051239,-0.31662046909332275,0.013765573501586914,-0.038476161658763885,0.11079494655132294,-0.07711559534072876,-0.05760316923260689,0.11991947144269943,0.07273738086223602,0.22990688681602478,0.08949632942676544,-0.01062647346407175,-0.20066015422344208,0.01216145884245634,0.027375444769859314,0.003368047997355461,-0.0010481297504156828,-0.12707188725471497,0.0561620369553566,-0.20115803182125092,-0.20177695155143738,0.07814475148916245,-0.2928953766822815,0.05215081945061684,0.1114068254828453,-0.04938998073339462,-0.048017192631959915,-0.06358147412538528,-0.036919109523296356,0.029182875528931618,0.09593646973371506,-0.07232838869094849,-0.289922297000885,0.1570943295955658,0.2584485411643982,0.10658850520849228,0.08464399725198746,-0.0020808116532862186,-0.02845170721411705,-0.01823578029870987,0.1884908229112625,-0.19065305590629578,-0.15587668120861053,0.12414264678955078,-0.10640645027160645,-0.01679198071360588,-0.23512421548366547,-0.18323509395122528,-0.22274921834468842,0.2913300395011902,-0.15673786401748657,0.1854219138622284,-0.008129964582622051,-0.23327936232089996,0.06491100043058395,0.15041516721248627,0.035065822303295135,-0.061123695224523544,-0.24802644550800323,-0.3139633536338806,0.021613016724586487,-0.09347660839557648,0.07424905151128769,-0.011878698132932186,0.16970208287239075,0.15324702858924866,0.16057954728603363,-0.37959229946136475,-0.11592747271060944,0.2858506739139557,-0.3929363787174225,0.024230027571320534,-0.11725497245788574,0.07359834015369415,0.17198145389556885,0.01708364486694336,0.12069143354892731,-0.03899531066417694,-0.20652605593204498,0.24437150359153748,0.15670330822467804,-0.14338161051273346,-0.016253741458058357,-0.3370397388935089,-0.1618029922246933,-0.06629562377929688,0.11969773471355438,0.09213367104530334,-0.13092494010925293,0.042443953454494476,-0.08368358761072159,0.08933952450752258,-0.16466474533081055,0.13156123459339142,-0.16051317751407623,-0.18737025558948517,0.05055449530482292,0.0887865200638771,0.05496115982532501,0.2754077613353729,-0.06518689543008804,-0.020472452044487,0.2607567012310028,0.12267474085092545,0.09545927494764328,-0.060297995805740356,-0.02616198919713497,0.04259179159998894,0.11818761378526688,-0.17109617590904236,-0.2453743815422058,0.01955782249569893,-0.018983356654644012,0.22595776617527008,0.19310855865478516,0.23050281405448914,0.057799212634563446,0.02991841919720173,0.1135755404829979,-0.12786249816417694,-0.3546198606491089,-0.11077627539634705,0.14044611155986786,0.018743984401226044,0.25219812989234924,-0.024605611339211464,-0.086464062333107,-0.0521211214363575,-0.06743880361318588,0.1602451354265213,0.12963175773620605,0.11170852929353714,0.2692141830921173,-0.06243641674518585,-0.08475788682699203,-0.06978587061166763,-0.38524532318115234,0.07794450968503952,0.17449131608009338,-0.17646169662475586,-0.048408109694719315,-0.12431901693344116,0.3065902590751648,0.09695499390363693,-0.10922935605049133,0.07320782542228699,0.033597223460674286,-0.38149455189704895,-0.11178166419267654,-0.11899740993976593,0.27794188261032104,-0.05961315706372261,-0.2423277646303177,-0.05067797750234604,0.14607027173042297,0.24157929420471191,0.06468518823385239,0.09368377923965454,-0.09354503452777863,-0.04508746787905693,-0.18593432009220123,0.10387297719717026,0.2808763384819031,0.038184039294719696,0.0274738147854805,0.39752984046936035,0.23880022764205933,-0.010054027661681175,0.004025904927402735,0.14126110076904297,0.2927311062812805,-0.12009154260158539,-0.07774843275547028,-0.0033192893024533987,0.280171662569046,0.06513930857181549,-0.06752859801054001,-0.022083694115281105,0.06682433933019638,0.005722661502659321,-0.0764385387301445,0.3304266035556793,0.1995541900396347,-0.11284930258989334,-0.15972666442394257,-0.04012679308652878,0.19358207285404205,0.014348615892231464,-0.03809113800525665,-0.162468820810318,0.23120638728141785,0.18764540553092957,-0.03687814623117447,-0.021063189953565598,0.14141249656677246,0.023673165589571,0.15749149024486542,-0.08848274499177933,-0.11882127821445465,0.2915247082710266,0.010280664078891277,-0.378374844789505,-0.02473411150276661,0.18230487406253815,0.1176992729306221,-0.1567186713218689,0.10037215054035187,0.20838573575019836,0.0007017034222371876,-0.060596585273742676,-0.19486059248447418,-0.15607041120529175,-0.05646197870373726,-0.12031818181276321,-0.07821742445230484,-0.016693662852048874,-0.09046652913093567,-0.04471315070986748,-0.1322569102048874,-0.2073342502117157,0.4050612449645996,-0.06408783793449402,-0.23096546530723572,0.27610069513320923,0.07693428546190262,0.11307813227176666,-0.23464709520339966,0.008993197232484818,-0.014380881562829018,0.3154473304748535,0.18459561467170715,-0.07244275510311127,0.3243306875228882,0.14594025909900665,-0.0018129439558833838,0.05347813293337822,-0.06210591644048691,-0.028546370565891266,-0.07157748192548752,-0.17222262918949127,-0.054538290947675705,-0.06434887647628784,0.11979576200246811,0.06253030896186829,0.3404253423213959,-0.13941551744937897,0.02403039112687111,-0.23059788346290588,0.18840378522872925,0.05086025595664978,0.3177686631679535,-0.28685325384140015,0.2435309737920761,0.0830347016453743,0.16013455390930176,0.2591906189918518,-0.06424427777528763,0.0829543024301529,-0.19711089134216309,0.0847088173031807,0.06138192489743233,0.004942262079566717,-0.11314251273870468,-0.2509946823120117,0.09669563174247742,-0.24750202894210815,-0.23177359998226166,-0.10891339182853699,0.008845836855471134,-0.08557829260826111,-0.06544869393110275,-0.20144441723823547,0.023482052609324455,-0.35259029269218445,0.08427248895168304,-0.34698185324668884,0.23833519220352173,0.13880577683448792,-0.1445489078760147,-0.11176317185163498,-0.05758906155824661,0.18934407830238342,0.2628861665725708,-0.2785440981388092,0.3884507715702057,0.03795812278985977,-0.07715816050767899,-0.2508396804332733,-0.07841502875089645,0.015478124842047691,0.21490201354026794,0.584149956703186,0.2381533533334732,-0.3605707585811615,0.037011921405792236,0.1701090931892395,0.10386089980602264,-0.1655215471982956,-0.21046358346939087,0.09234564006328583,-0.3288128077983856,0.2721627652645111,0.19106268882751465,-0.1418960988521576,-0.006290792021900415,0.0009319683886133134,-0.16239309310913086,0.21774376928806305,-0.11650419235229492,-0.09394414722919464,-0.38286149501800537,-0.08629316091537476,-0.14140811562538147,0.1789320707321167,0.3348683714866638,0.31739816069602966,-0.15816931426525116,0.4257315993309021,-0.22352935373783112,-0.14729642868041992,0.177174374461174,0.34203386306762695,0.1984996497631073,-0.15892967581748962,0.06498207151889801,0.08443204313516617,-0.07644597440958023,-0.08362440019845963,0.4312595725059509,0.04078005254268646,-0.041509486734867096,-0.005893433466553688,0.11124461144208908,-0.30563119053840637,-0.1183086410164833,0.08102026581764221,0.3497180938720703,0.1346934586763382,-0.05674213543534279,0.08511936664581299,-0.2698652744293213,-0.12075569480657578,-0.16875256597995758,0.11735548824071884,0.2940078377723694,0.09994418919086456,-0.03243492543697357,0.060053687542676926,-0.04815853387117386,-0.03488616645336151,-0.08598010987043381,-0.13443943858146667,0.08900769054889679,-0.12035826593637466,-0.007335481699556112,-0.025343112647533417,0.14531013369560242,0.3718824088573456,-0.35420992970466614,-0.2846263647079468,-0.29774966835975647,-0.5710936188697815,0.1415540874004364,0.033353641629219055,0.27847516536712646,-0.14776742458343506,-0.00701847393065691,0.2425815314054489,0.09492531418800354,-0.13731813430786133,-0.08985252678394318,0.09154465794563293,0.2697821855545044,-0.2614303529262543,-0.0668187141418457,-0.10430897772312164,-0.2216004878282547,0.31587934494018555,-0.11326216161251068,-0.2779965102672577,-0.2529960572719574,0.08445125818252563,-0.43793749809265137,-0.11896470934152603,-0.01862381212413311,0.059345219284296036,0.0779607817530632,0.12085822224617004,0.1738804131746292,-0.217152938246727,0.06292034685611725,-0.1356198936700821,0.0012636760948225856,-0.15345658361911774,0.06394235044717789,0.03853049874305725,-0.0010083430679515004,0.22470206022262573,-0.02286204881966114,0.1834612488746643,0.34389811754226685,-0.056288789957761765,0.0013210313627496362,0.02859369106590748,-0.2053748220205307,-0.09455712884664536,-0.05574864149093628,0.20511110126972198,-0.07736121863126755,-0.13571543991565704,-0.18956869840621948,0.3116459548473358,0.08575437217950821,0.3188384473323822,-0.07100794464349747,0.05896522104740143,-0.14423464238643646,0.23720665276050568,-0.026494180783629417,0.01851818338036537,0.00021809586905874312,0.0550849623978138,0.22207728028297424,0.2489974945783615,-0.37583741545677185,-0.04049414023756981,-0.03676187992095947,-0.08247561007738113,-0.22276459634304047,-0.44775334000587463,0.07907037436962128,-0.21689645946025848,-0.09439589828252792,-0.0903572365641594,0.24589096009731293,0.01633092574775219,0.29862257838249207,-0.04053742438554764,-0.022695152088999748,0.07195380330085754,0.00315792765468359,0.26715368032455444,-0.3363489806652069,0.4107913672924042,-0.08649376034736633,-0.5206748843193054,0.09295140951871872,0.10011660307645798,-0.2818611264228821,0.015417857095599174,0.14037635922431946,0.05412682145833969,-0.3523804843425751,-0.1645042896270752,0.09486851841211319,-0.06625855714082718,-0.10348951816558838,-0.2149510234594345,0.08550961315631866,0.2056468278169632,-0.11361759155988693,0.17103423178195953],\"type\":\"scatter3d\"}],                        {\"template\":{\"data\":{\"bar\":[{\"error_x\":{\"color\":\"#2a3f5f\"},\"error_y\":{\"color\":\"#2a3f5f\"},\"marker\":{\"line\":{\"color\":\"#E5ECF6\",\"width\":0.5},\"pattern\":{\"fillmode\":\"overlay\",\"size\":10,\"solidity\":0.2}},\"type\":\"bar\"}],\"barpolar\":[{\"marker\":{\"line\":{\"color\":\"#E5ECF6\",\"width\":0.5},\"pattern\":{\"fillmode\":\"overlay\",\"size\":10,\"solidity\":0.2}},\"type\":\"barpolar\"}],\"carpet\":[{\"aaxis\":{\"endlinecolor\":\"#2a3f5f\",\"gridcolor\":\"white\",\"linecolor\":\"white\",\"minorgridcolor\":\"white\",\"startlinecolor\":\"#2a3f5f\"},\"baxis\":{\"endlinecolor\":\"#2a3f5f\",\"gridcolor\":\"white\",\"linecolor\":\"white\",\"minorgridcolor\":\"white\",\"startlinecolor\":\"#2a3f5f\"},\"type\":\"carpet\"}],\"choropleth\":[{\"colorbar\":{\"outlinewidth\":0,\"ticks\":\"\"},\"type\":\"choropleth\"}],\"contour\":[{\"colorbar\":{\"outlinewidth\":0,\"ticks\":\"\"},\"colorscale\":[[0.0,\"#0d0887\"],[0.1111111111111111,\"#46039f\"],[0.2222222222222222,\"#7201a8\"],[0.3333333333333333,\"#9c179e\"],[0.4444444444444444,\"#bd3786\"],[0.5555555555555556,\"#d8576b\"],[0.6666666666666666,\"#ed7953\"],[0.7777777777777778,\"#fb9f3a\"],[0.8888888888888888,\"#fdca26\"],[1.0,\"#f0f921\"]],\"type\":\"contour\"}],\"contourcarpet\":[{\"colorbar\":{\"outlinewidth\":0,\"ticks\":\"\"},\"type\":\"contourcarpet\"}],\"heatmap\":[{\"colorbar\":{\"outlinewidth\":0,\"ticks\":\"\"},\"colorscale\":[[0.0,\"#0d0887\"],[0.1111111111111111,\"#46039f\"],[0.2222222222222222,\"#7201a8\"],[0.3333333333333333,\"#9c179e\"],[0.4444444444444444,\"#bd3786\"],[0.5555555555555556,\"#d8576b\"],[0.6666666666666666,\"#ed7953\"],[0.7777777777777778,\"#fb9f3a\"],[0.8888888888888888,\"#fdca26\"],[1.0,\"#f0f921\"]],\"type\":\"heatmap\"}],\"heatmapgl\":[{\"colorbar\":{\"outlinewidth\":0,\"ticks\":\"\"},\"colorscale\":[[0.0,\"#0d0887\"],[0.1111111111111111,\"#46039f\"],[0.2222222222222222,\"#7201a8\"],[0.3333333333333333,\"#9c179e\"],[0.4444444444444444,\"#bd3786\"],[0.5555555555555556,\"#d8576b\"],[0.6666666666666666,\"#ed7953\"],[0.7777777777777778,\"#fb9f3a\"],[0.8888888888888888,\"#fdca26\"],[1.0,\"#f0f921\"]],\"type\":\"heatmapgl\"}],\"histogram\":[{\"marker\":{\"pattern\":{\"fillmode\":\"overlay\",\"size\":10,\"solidity\":0.2}},\"type\":\"histogram\"}],\"histogram2d\":[{\"colorbar\":{\"outlinewidth\":0,\"ticks\":\"\"},\"colorscale\":[[0.0,\"#0d0887\"],[0.1111111111111111,\"#46039f\"],[0.2222222222222222,\"#7201a8\"],[0.3333333333333333,\"#9c179e\"],[0.4444444444444444,\"#bd3786\"],[0.5555555555555556,\"#d8576b\"],[0.6666666666666666,\"#ed7953\"],[0.7777777777777778,\"#fb9f3a\"],[0.8888888888888888,\"#fdca26\"],[1.0,\"#f0f921\"]],\"type\":\"histogram2d\"}],\"histogram2dcontour\":[{\"colorbar\":{\"outlinewidth\":0,\"ticks\":\"\"},\"colorscale\":[[0.0,\"#0d0887\"],[0.1111111111111111,\"#46039f\"],[0.2222222222222222,\"#7201a8\"],[0.3333333333333333,\"#9c179e\"],[0.4444444444444444,\"#bd3786\"],[0.5555555555555556,\"#d8576b\"],[0.6666666666666666,\"#ed7953\"],[0.7777777777777778,\"#fb9f3a\"],[0.8888888888888888,\"#fdca26\"],[1.0,\"#f0f921\"]],\"type\":\"histogram2dcontour\"}],\"mesh3d\":[{\"colorbar\":{\"outlinewidth\":0,\"ticks\":\"\"},\"type\":\"mesh3d\"}],\"parcoords\":[{\"line\":{\"colorbar\":{\"outlinewidth\":0,\"ticks\":\"\"}},\"type\":\"parcoords\"}],\"pie\":[{\"automargin\":true,\"type\":\"pie\"}],\"scatter\":[{\"marker\":{\"colorbar\":{\"outlinewidth\":0,\"ticks\":\"\"}},\"type\":\"scatter\"}],\"scatter3d\":[{\"line\":{\"colorbar\":{\"outlinewidth\":0,\"ticks\":\"\"}},\"marker\":{\"colorbar\":{\"outlinewidth\":0,\"ticks\":\"\"}},\"type\":\"scatter3d\"}],\"scattercarpet\":[{\"marker\":{\"colorbar\":{\"outlinewidth\":0,\"ticks\":\"\"}},\"type\":\"scattercarpet\"}],\"scattergeo\":[{\"marker\":{\"colorbar\":{\"outlinewidth\":0,\"ticks\":\"\"}},\"type\":\"scattergeo\"}],\"scattergl\":[{\"marker\":{\"colorbar\":{\"outlinewidth\":0,\"ticks\":\"\"}},\"type\":\"scattergl\"}],\"scattermapbox\":[{\"marker\":{\"colorbar\":{\"outlinewidth\":0,\"ticks\":\"\"}},\"type\":\"scattermapbox\"}],\"scatterpolar\":[{\"marker\":{\"colorbar\":{\"outlinewidth\":0,\"ticks\":\"\"}},\"type\":\"scatterpolar\"}],\"scatterpolargl\":[{\"marker\":{\"colorbar\":{\"outlinewidth\":0,\"ticks\":\"\"}},\"type\":\"scatterpolargl\"}],\"scatterternary\":[{\"marker\":{\"colorbar\":{\"outlinewidth\":0,\"ticks\":\"\"}},\"type\":\"scatterternary\"}],\"surface\":[{\"colorbar\":{\"outlinewidth\":0,\"ticks\":\"\"},\"colorscale\":[[0.0,\"#0d0887\"],[0.1111111111111111,\"#46039f\"],[0.2222222222222222,\"#7201a8\"],[0.3333333333333333,\"#9c179e\"],[0.4444444444444444,\"#bd3786\"],[0.5555555555555556,\"#d8576b\"],[0.6666666666666666,\"#ed7953\"],[0.7777777777777778,\"#fb9f3a\"],[0.8888888888888888,\"#fdca26\"],[1.0,\"#f0f921\"]],\"type\":\"surface\"}],\"table\":[{\"cells\":{\"fill\":{\"color\":\"#EBF0F8\"},\"line\":{\"color\":\"white\"}},\"header\":{\"fill\":{\"color\":\"#C8D4E3\"},\"line\":{\"color\":\"white\"}},\"type\":\"table\"}]},\"layout\":{\"annotationdefaults\":{\"arrowcolor\":\"#2a3f5f\",\"arrowhead\":0,\"arrowwidth\":1},\"autotypenumbers\":\"strict\",\"coloraxis\":{\"colorbar\":{\"outlinewidth\":0,\"ticks\":\"\"}},\"colorscale\":{\"diverging\":[[0,\"#8e0152\"],[0.1,\"#c51b7d\"],[0.2,\"#de77ae\"],[0.3,\"#f1b6da\"],[0.4,\"#fde0ef\"],[0.5,\"#f7f7f7\"],[0.6,\"#e6f5d0\"],[0.7,\"#b8e186\"],[0.8,\"#7fbc41\"],[0.9,\"#4d9221\"],[1,\"#276419\"]],\"sequential\":[[0.0,\"#0d0887\"],[0.1111111111111111,\"#46039f\"],[0.2222222222222222,\"#7201a8\"],[0.3333333333333333,\"#9c179e\"],[0.4444444444444444,\"#bd3786\"],[0.5555555555555556,\"#d8576b\"],[0.6666666666666666,\"#ed7953\"],[0.7777777777777778,\"#fb9f3a\"],[0.8888888888888888,\"#fdca26\"],[1.0,\"#f0f921\"]],\"sequentialminus\":[[0.0,\"#0d0887\"],[0.1111111111111111,\"#46039f\"],[0.2222222222222222,\"#7201a8\"],[0.3333333333333333,\"#9c179e\"],[0.4444444444444444,\"#bd3786\"],[0.5555555555555556,\"#d8576b\"],[0.6666666666666666,\"#ed7953\"],[0.7777777777777778,\"#fb9f3a\"],[0.8888888888888888,\"#fdca26\"],[1.0,\"#f0f921\"]]},\"colorway\":[\"#636efa\",\"#EF553B\",\"#00cc96\",\"#ab63fa\",\"#FFA15A\",\"#19d3f3\",\"#FF6692\",\"#B6E880\",\"#FF97FF\",\"#FECB52\"],\"font\":{\"color\":\"#2a3f5f\"},\"geo\":{\"bgcolor\":\"white\",\"lakecolor\":\"white\",\"landcolor\":\"#E5ECF6\",\"showlakes\":true,\"showland\":true,\"subunitcolor\":\"white\"},\"hoverlabel\":{\"align\":\"left\"},\"hovermode\":\"closest\",\"mapbox\":{\"style\":\"light\"},\"paper_bgcolor\":\"white\",\"plot_bgcolor\":\"#E5ECF6\",\"polar\":{\"angularaxis\":{\"gridcolor\":\"white\",\"linecolor\":\"white\",\"ticks\":\"\"},\"bgcolor\":\"#E5ECF6\",\"radialaxis\":{\"gridcolor\":\"white\",\"linecolor\":\"white\",\"ticks\":\"\"}},\"scene\":{\"xaxis\":{\"backgroundcolor\":\"#E5ECF6\",\"gridcolor\":\"white\",\"gridwidth\":2,\"linecolor\":\"white\",\"showbackground\":true,\"ticks\":\"\",\"zerolinecolor\":\"white\"},\"yaxis\":{\"backgroundcolor\":\"#E5ECF6\",\"gridcolor\":\"white\",\"gridwidth\":2,\"linecolor\":\"white\",\"showbackground\":true,\"ticks\":\"\",\"zerolinecolor\":\"white\"},\"zaxis\":{\"backgroundcolor\":\"#E5ECF6\",\"gridcolor\":\"white\",\"gridwidth\":2,\"linecolor\":\"white\",\"showbackground\":true,\"ticks\":\"\",\"zerolinecolor\":\"white\"}},\"shapedefaults\":{\"line\":{\"color\":\"#2a3f5f\"}},\"ternary\":{\"aaxis\":{\"gridcolor\":\"white\",\"linecolor\":\"white\",\"ticks\":\"\"},\"baxis\":{\"gridcolor\":\"white\",\"linecolor\":\"white\",\"ticks\":\"\"},\"bgcolor\":\"#E5ECF6\",\"caxis\":{\"gridcolor\":\"white\",\"linecolor\":\"white\",\"ticks\":\"\"}},\"title\":{\"x\":0.05},\"xaxis\":{\"automargin\":true,\"gridcolor\":\"white\",\"linecolor\":\"white\",\"ticks\":\"\",\"title\":{\"standoff\":15},\"zerolinecolor\":\"white\",\"zerolinewidth\":2},\"yaxis\":{\"automargin\":true,\"gridcolor\":\"white\",\"linecolor\":\"white\",\"ticks\":\"\",\"title\":{\"standoff\":15},\"zerolinecolor\":\"white\",\"zerolinewidth\":2}}},\"scene\":{\"domain\":{\"x\":[0.0,1.0],\"y\":[0.0,1.0]},\"xaxis\":{\"title\":{\"text\":\"x\"}},\"yaxis\":{\"title\":{\"text\":\"y\"}},\"zaxis\":{\"title\":{\"text\":\"z\"}}},\"coloraxis\":{\"colorbar\":{\"title\":{\"text\":\"x\"}},\"colorscale\":[[0.0,\"#0d0887\"],[0.1111111111111111,\"#46039f\"],[0.2222222222222222,\"#7201a8\"],[0.3333333333333333,\"#9c179e\"],[0.4444444444444444,\"#bd3786\"],[0.5555555555555556,\"#d8576b\"],[0.6666666666666666,\"#ed7953\"],[0.7777777777777778,\"#fb9f3a\"],[0.8888888888888888,\"#fdca26\"],[1.0,\"#f0f921\"]]},\"legend\":{\"tracegroupgap\":0},\"margin\":{\"t\":60}},                        {\"responsive\": true}                    ).then(function(){\n",
              "                            \n",
              "var gd = document.getElementById('add77c2f-36c8-454c-ac64-10462d989efb');\n",
              "var x = new MutationObserver(function (mutations, observer) {{\n",
              "        var display = window.getComputedStyle(gd).display;\n",
              "        if (!display || display === 'none') {{\n",
              "            console.log([gd, 'removed!']);\n",
              "            Plotly.purge(gd);\n",
              "            observer.disconnect();\n",
              "        }}\n",
              "}});\n",
              "\n",
              "// Listen for the removal of the full notebook cells\n",
              "var notebookContainer = gd.closest('#notebook-container');\n",
              "if (notebookContainer) {{\n",
              "    x.observe(notebookContainer, {childList: true});\n",
              "}}\n",
              "\n",
              "// Listen for the clearing of the current output cell\n",
              "var outputEl = gd.closest('.output');\n",
              "if (outputEl) {{\n",
              "    x.observe(outputEl, {childList: true});\n",
              "}}\n",
              "\n",
              "                        })                };                            </script>        </div>\n",
              "</body>\n",
              "</html>"
            ]
          },
          "metadata": {}
        }
      ]
    },
    {
      "cell_type": "code",
      "source": [
        "acc = history.history['accuracy']\n",
        "val_acc = history.history['val_accuracy']\n",
        "loss = history.history['loss']\n",
        "val_loss = history.history['val_loss']\n",
        "\n",
        "epochs = range(len(acc))\n",
        "\n",
        "plt.plot(epochs, acc, 'r', label='Training accuracy')\n",
        "plt.plot(epochs, val_acc, 'b', label='Validation accuracy')\n",
        "plt.title('Training and validation accuracy')\n",
        "plt.legend(loc=0)\n",
        "plt.figure()\n",
        "\n",
        "plt.plot(epochs, loss, 'r', label='Training loss')\n",
        "plt.plot(epochs, val_loss, 'b', label='Validation loss')\n",
        "plt.title('Training and validation loss')\n",
        "plt.legend(loc=0)\n",
        "plt.show()"
      ],
      "metadata": {
        "colab": {
          "base_uri": "https://localhost:8080/",
          "height": 545
        },
        "id": "QjaXc4RhVsQo",
        "outputId": "81be5f71-0282-4338-d124-ff38ed929526"
      },
      "execution_count": 26,
      "outputs": [
        {
          "output_type": "display_data",
          "data": {
            "text/plain": [
              "<Figure size 432x288 with 1 Axes>"
            ],
            "image/png": "[encoded data removed]"
          },
          "metadata": {
            "needs_background": "light"
          }
        },
        {
          "output_type": "display_data",
          "data": {
            "text/plain": [
              "<Figure size 432x288 with 1 Axes>"
            ],
            "image/png": "[encoded data removed]"
          },
          "metadata": {
            "needs_background": "light"
          }
        }
      ]
    },
    {
      "cell_type": "markdown",
      "source": [
        "Think of loss as the error in prediction. With increasing epochs the training accuracy increases constantly while the validation accuracy increases then slowly decreases as overfitting occurs. With increasing epoch the training loss decreases constantly while validation loss decreases first than slowly increases."
      ],
      "metadata": {
        "id": "CcFaQUJTV_iw"
      }
    }
  ],
  "metadata": {
    "colab": {
      "collapsed_sections": [],
      "provenance": [],
      "mount_file_id": "1yvhCVsg96QV0XOYEv_1oklEDWRS8M-KZ",
      "authorship_tag": "ABX9TyMzuKmgAOeK764cYSrF7ZPf",
      "include_colab_link": true
    },
    "kernelspec": {
      "display_name": "Python 3",
      "name": "python3"
    },
    "language_info": {
      "name": "python"
    }
  },
  "nbformat": 4,
  "nbformat_minor": 0
}