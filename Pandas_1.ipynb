{
  "nbformat": 4,
  "nbformat_minor": 0,
  "metadata": {
    "colab": {
      "provenance": [],
      "collapsed_sections": [],
      "authorship_tag": "ABX9TyOHhGD54Oj1Uwx/k4TBxMFn",
      "include_colab_link": true
    },
    "kernelspec": {
      "name": "python3",
      "display_name": "Python 3"
    },
    "language_info": {
      "name": "python"
    }
  },
  "cells": [
    {
      "cell_type": "markdown",
      "metadata": {
        "id": "view-in-github",
        "colab_type": "text"
      },
      "source": [
        "<a href=\"https://colab.research.google.com/github/Karmabir-Brahma/ML/blob/master/Pandas_1.ipynb\" target=\"_parent\"><img src=\"https://colab.research.google.com/assets/colab-badge.svg\" alt=\"Open In Colab\"/></a>"
      ]
    },
    {
      "cell_type": "code",
      "execution_count": 1,
      "metadata": {
        "id": "AH6YHiN_K4oy"
      },
      "outputs": [],
      "source": [
        "import numpy as np\n",
        "import pandas as pd"
      ]
    },
    {
      "cell_type": "markdown",
      "metadata": {
        "id": "RutIK84wIp1S"
      },
      "source": [
        "## Creating a DataFrame\n",
        "\n",
        "The following code cell creates a simple DataFrame containing 10 cells organized as follows:\n",
        "\n",
        "  * 5 rows\n",
        "  * 2 columns, one named `temperature` and the other named `activity`\n",
        "\n",
        "The following code cell instantiates a `pd.DataFrame` class to generate a DataFrame. The class takes two arguments:\n",
        "\n",
        "  * The first argument provides the data to populate the 10 cells. The code cell calls `np.array` to generate the 5x2 NumPy array.\n",
        "  * The second argument identifies the names of the two columns."
      ]
    },
    {
      "cell_type": "code",
      "source": [
        "#Create and populate a 5x2 NumPy array\n",
        "my_data = np.array([[1,6],[23,4],[10,3],[29,5],[37,9]])\n",
        "print(my_data)\n",
        "\n",
        "#Create a python list that holds the names of the two columns\n",
        "my_columns = ['temperature','activity']\n",
        "\n",
        "#Create a DataFrame\n",
        "my_dataframe = pd.DataFrame(data=my_data, columns=my_columns)\n",
        "\n",
        "#Print the entire DataFrame\n",
        "print(my_dataframe)"
      ],
      "metadata": {
        "colab": {
          "base_uri": "https://localhost:8080/"
        },
        "id": "mmfSJ2NpLDg8",
        "outputId": "9481becc-5904-4e41-ce36-63a4b6a7868b"
      },
      "execution_count": 11,
      "outputs": [
        {
          "output_type": "stream",
          "name": "stdout",
          "text": [
            "[[ 1  6]\n",
            " [23  4]\n",
            " [10  3]\n",
            " [29  5]\n",
            " [37  9]]\n",
            "   temperature  activity\n",
            "0            1         6\n",
            "1           23         4\n",
            "2           10         3\n",
            "3           29         5\n",
            "4           37         9\n"
          ]
        }
      ]
    },
    {
      "cell_type": "markdown",
      "metadata": {
        "id": "NJ-I78_7OFVs"
      },
      "source": [
        "## Adding a new column to a DataFrame\n",
        "\n",
        "You may add a new column to an existing pandas DataFrame just by assigning values to a new column name. For example, the following code creates a third column named `adjusted` in `my_dataframe`: "
      ]
    },
    {
      "cell_type": "code",
      "source": [
        "my_dataframe['adjusted'] = my_dataframe['activity']+2\n",
        "print(my_dataframe)"
      ],
      "metadata": {
        "colab": {
          "base_uri": "https://localhost:8080/"
        },
        "id": "GhBw5dcbNiMx",
        "outputId": "0c9133ea-661c-4806-c224-fb109856ecd1"
      },
      "execution_count": null,
      "outputs": [
        {
          "output_type": "stream",
          "name": "stdout",
          "text": [
            "   temperature  activity  adjusted\n",
            "0            1         6         8\n",
            "1           23         4         6\n",
            "2           10         3         5\n",
            "3           29         5         7\n",
            "4           37         9        11\n"
          ]
        }
      ]
    },
    {
      "cell_type": "markdown",
      "metadata": {
        "id": "RJ2aziCR5th2"
      },
      "source": [
        "## Specifying a subset of a DataFrame\n",
        "\n",
        "Pandas provide multiples ways to isolate specific rows, columns, slices or cells in a DataFrame. "
      ]
    },
    {
      "cell_type": "code",
      "source": [
        "print(\"Rows #0, #1 and #2:\")\n",
        "print(my_dataframe.head(3),'\\n')\n",
        "\n",
        "print(\"Row #2:\")\n",
        "print(my_dataframe.iloc[[2]],'\\n')\n",
        "\n",
        "print(\"Rows #1, #2 and #3:\")\n",
        "print(my_dataframe[1:4],'\\n')\n",
        "\n",
        "print(\"Cloums 'tempereture':\")\n",
        "print(my_dataframe['temperature'])"
      ],
      "metadata": {
        "colab": {
          "base_uri": "https://localhost:8080/"
        },
        "id": "K2RqxVE3OMDx",
        "outputId": "f5e6d97f-d606-4e5a-df00-8a217b212b5e"
      },
      "execution_count": null,
      "outputs": [
        {
          "output_type": "stream",
          "name": "stdout",
          "text": [
            "Rows #0, #1 and #2:\n",
            "   temperature  activity  adjusted\n",
            "0            1         6         8\n",
            "1           23         4         6\n",
            "2           10         3         5 \n",
            "\n",
            "Row #2:\n",
            "   temperature  activity  adjusted\n",
            "2           10         3         5 \n",
            "\n",
            "Rows #1, #2 and #3:\n",
            "   temperature  activity  adjusted\n",
            "1           23         4         6\n",
            "2           10         3         5\n",
            "3           29         5         7 \n",
            "\n",
            "Cloums 'tempereture':\n",
            "0     1\n",
            "1    23\n",
            "2    10\n",
            "3    29\n",
            "4    37\n",
            "Name: temperature, dtype: int64\n"
          ]
        }
      ]
    },
    {
      "cell_type": "markdown",
      "metadata": {
        "id": "_cL_NxAdZzdS"
      },
      "source": [
        "## Task 1: Create a DataFrame\n",
        "\n",
        "Do the following:\n",
        "\n",
        "  1. Create an 3x4 (3 rows x 4 columns) pandas DataFrame in which the columns are named `Eleanor`,  `Chidi`, `Tahani`, and `Jason`.  Populate each of the 12 cells in the DataFrame with a random integer between 0 and 100, inclusive.\n",
        "\n",
        "  2. Output the following:\n",
        "\n",
        "     * the entire DataFrame\n",
        "     * the value in the cell of row #1 of the `Eleanor` column\n",
        "\n",
        "  3. Create a fifth column named `Janet`, which is populated with the row-by-row sums of `Tahani` and `Jason`.\n",
        "\n",
        "To complete this task, it helps to know the NumPy basics covered in the NumPy UltraQuick Tutorial. \n"
      ]
    },
    {
      "cell_type": "code",
      "metadata": {
        "id": "cIJEv08DMSxj",
        "colab": {
          "base_uri": "https://localhost:8080/"
        },
        "outputId": "1a8b0f73-8f64-4673-aaa7-45682b7585b1"
      },
      "source": [
        "datas = np.random.randint(low=0, high=101, size=(3,4))\n",
        "column_name = ['Eleanor','Chidi','Tahani','Jason']\n",
        "\n",
        "my_DataFrame = pd.DataFrame(data=datas,columns=column_name)\n",
        "print(my_DataFrame,'\\n')\n",
        "\n",
        "print(\"The value in the cell of row #1 of the Eleanor column: %d\\n\" % my_DataFrame['Eleanor'][1])\n",
        "\n",
        "my_DataFrame['Janet'] = my_DataFrame['Tahani'] + my_DataFrame['Jason']\n",
        "print(my_DataFrame)"
      ],
      "execution_count": null,
      "outputs": [
        {
          "output_type": "stream",
          "name": "stdout",
          "text": [
            "   Eleanor  Chidi  Tahani  Jason\n",
            "0       53     21      95     70\n",
            "1       68     28      14     66\n",
            "2       48     66      10     76 \n",
            "\n",
            "The value in the cell of row #1 of the Eleanor column: 68\n",
            "\n",
            "   Eleanor  Chidi  Tahani  Jason  Janet\n",
            "0       53     21      95     70    165\n",
            "1       68     28      14     66     80\n",
            "2       48     66      10     76     86\n"
          ]
        }
      ]
    },
    {
      "cell_type": "code",
      "metadata": {
        "id": "dPmpVM_8IoBO",
        "cellView": "form"
      },
      "source": [
        "#@title Double-click for a solution to Task 1.\n",
        "\n",
        "# Create a Python list that holds the names of the four columns.\n",
        "my_column_names = ['Eleanor', 'Chidi', 'Tahani', 'Jason']\n",
        "\n",
        "# Create a 3x4 numpy array, each cell populated with a random integer.\n",
        "my_data = np.random.randint(low=0, high=101, size=(3, 4))\n",
        "\n",
        "# Create a DataFrame.\n",
        "df = pd.DataFrame(data=my_data, columns=my_column_names)\n",
        "\n",
        "# Print the entire DataFrame\n",
        "print(df)\n",
        "\n",
        "# Print the value in row #1 of the Eleanor column.\n",
        "print(\"\\nSecond row of the Eleanor column: %d\\n\" % df['Eleanor'][1])\n",
        "\n",
        "# Create a column named Janet whose contents are the sum\n",
        "# of two other columns.\n",
        "df['Janet'] = df['Tahani'] + df['Jason']\n",
        "\n",
        "# Print the enhanced DataFrame\n",
        "print(df)"
      ],
      "execution_count": null,
      "outputs": []
    },
    {
      "cell_type": "markdown",
      "metadata": {
        "id": "bh7MeyafemNL"
      },
      "source": [
        "## Copying a DataFrame (optional)\n",
        "\n",
        "Pandas provides two different ways to duplicate a DataFrame:\n",
        "\n",
        "* **Referencing.** If you assign a DataFrame to a new variable, any change to the DataFrame or to the new variable will be reflected in the other. \n",
        "* **Copying.** If you call the `pd.DataFrame.copy` method, you create a true independent copy.  Changes to the original DataFrame or to the copy will not be reflected in the other. \n",
        "\n",
        "The difference is subtle, but important."
      ]
    },
    {
      "cell_type": "code",
      "source": [
        "#Using Reference\n",
        "print(\"Experiment with a reference:\")\n",
        "ref_dataframe = my_DataFrame\n",
        "\n",
        "print(\"Existing value of my_DataFrame: %d\" %my_DataFrame['Chidi'][1])\n",
        "print(\"Existing value of ref_dataframe: %d \\n\" %ref_dataframe['Chidi'][1])\n",
        "\n",
        "#Modify a cell in my_DataFrame\n",
        "my_DataFrame.at[1,'Chidi'] = my_DataFrame['Chidi'][1]+2\n",
        "\n",
        "print(\"Updated my_DataFrame: %d\" %my_DataFrame['Chidi'][1])\n",
        "print(\"Updated ref_dataframe: %d\" %ref_dataframe['Chidi'][1])"
      ],
      "metadata": {
        "id": "Jzyz64H9uCwR",
        "colab": {
          "base_uri": "https://localhost:8080/"
        },
        "outputId": "4f01e3ab-c6f8-4bed-b3e0-a326a660b902"
      },
      "execution_count": null,
      "outputs": [
        {
          "output_type": "stream",
          "name": "stdout",
          "text": [
            "Experiment with a reference:\n",
            "Existing value of my_DataFrame: 38\n",
            "Existing value of ref_dataframe: 38 \n",
            "\n",
            "Updated my_DataFrame: 40\n",
            "Updated ref_dataframe: 40\n"
          ]
        }
      ]
    },
    {
      "cell_type": "code",
      "source": [
        "#Using copy\n",
        "print(\"Experiment with a copy:\")\n",
        "copy_DataFrame = my_dataframe.copy()\n",
        "\n",
        "print(\"Existing value of temp row 1 in real: %d\" %my_dataframe['temperature'][1])\n",
        "print(\"Existing value of temp row 1 in copied: %d\\n\" %copy_DataFrame['temperature'][1])\n",
        "\n",
        "#Modify a cell in my_dataframe\n",
        "print(\"Modify a cell in my_dataframe\")\n",
        "my_dataframe.at[1,'temperature'] = my_dataframe['temperature'][1]+2\n",
        "\n",
        "print(\"Updated value of temp row 1 in real: %d\" %my_dataframe['temperature'][1])\n",
        "print(\"Updated value of temp row 1 in copied: %d \\n\" %copy_DataFrame['temperature'][1])\n",
        "\n",
        "print(\"Existing value of activity row 0 in real: %d\" %my_dataframe['activity'][0])\n",
        "print(\"Existing value of activity row 0 in copied: %d\\n\" %copy_DataFrame['activity'][0])\n",
        "\n",
        "#Modify a cell in copy_dataframe\n",
        "print(\"Modify a cell in copy_dataframe\")\n",
        "copy_DataFrame.at[0, 'activity'] = copy_DataFrame['activity'][0]+4\n",
        "\n",
        "print(\"Updated value of activity row 0 in real: %d\" %my_dataframe['activity'][0])\n",
        "print(\"Updated value of activity row 0 in copied: %d\" %copy_DataFrame['activity'][0])\n"
      ],
      "metadata": {
        "id": "ky210skwY072",
        "colab": {
          "base_uri": "https://localhost:8080/"
        },
        "outputId": "f01953d0-82e4-4261-e69c-3cb1b201c528"
      },
      "execution_count": 12,
      "outputs": [
        {
          "output_type": "stream",
          "name": "stdout",
          "text": [
            "Experiment with a copy:\n",
            "Existing value of temp row 1 in real: 23\n",
            "Existing value of temp row 1 in copied: 23\n",
            "\n",
            "Modify a cell in my_dataframe\n",
            "Updated value of temp row 1 in real: 25\n",
            "Updated value of temp row 1 in copied: 23 \n",
            "\n",
            "Existing value of activity row 0 in real: 6\n",
            "Existing value of activity row 0 in copied: 6\n",
            "\n",
            "Modify a cell in copy_dataframe\n",
            "Updated value of activity row 0 in real: 6\n",
            "Updated value of activity row 0 in copied: 10\n"
          ]
        }
      ]
    }
  ]
}